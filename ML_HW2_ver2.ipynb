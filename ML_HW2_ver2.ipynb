{
 "cells": [
  {
   "cell_type": "code",
   "execution_count": 1,
   "metadata": {
    "collapsed": true,
    "deletable": true,
    "editable": true
   },
   "outputs": [],
   "source": [
    "## import lib ##\n",
    "import numpy as np\n",
    "import pandas as pd\n",
    "import math\n",
    "\n",
    "import matplotlib.pyplot as plt\n",
    "from matplotlib import style\n",
    "style.use(\"ggplot\")\n",
    "import time\n",
    "\n",
    "from sklearn.neighbors import KDTree\n",
    "from sklearn.neighbors import KNeighborsClassifier\n",
    "from sklearn.metrics import confusion_matrix, accuracy_score\n",
    "from sklearn.model_selection import cross_val_score\n",
    "\n",
    "from scipy import spatial"
   ]
  },
  {
   "cell_type": "code",
   "execution_count": 2,
   "metadata": {
    "collapsed": false,
    "deletable": true,
    "editable": true
   },
   "outputs": [
    {
     "name": "stdout",
     "output_type": "stream",
     "text": [
      "Length: 4898\n"
     ]
    },
    {
     "data": {
      "text/html": [
       "<div>\n",
       "<table border=\"1\" class=\"dataframe\">\n",
       "  <thead>\n",
       "    <tr style=\"text-align: right;\">\n",
       "      <th></th>\n",
       "      <th>fixed acidity</th>\n",
       "      <th>volatile acidity</th>\n",
       "      <th>citric acid</th>\n",
       "      <th>residual sugar</th>\n",
       "      <th>chlorides</th>\n",
       "      <th>free sulfur dioxide</th>\n",
       "      <th>total sulfur dioxide</th>\n",
       "      <th>density</th>\n",
       "      <th>pH</th>\n",
       "      <th>sulphates</th>\n",
       "      <th>alcohol</th>\n",
       "      <th>quality</th>\n",
       "    </tr>\n",
       "  </thead>\n",
       "  <tbody>\n",
       "    <tr>\n",
       "      <th>0</th>\n",
       "      <td>7.0</td>\n",
       "      <td>0.27</td>\n",
       "      <td>0.36</td>\n",
       "      <td>20.7</td>\n",
       "      <td>0.045</td>\n",
       "      <td>45.0</td>\n",
       "      <td>170.0</td>\n",
       "      <td>1.0010</td>\n",
       "      <td>3.00</td>\n",
       "      <td>0.45</td>\n",
       "      <td>8.8</td>\n",
       "      <td>6</td>\n",
       "    </tr>\n",
       "    <tr>\n",
       "      <th>1</th>\n",
       "      <td>6.3</td>\n",
       "      <td>0.30</td>\n",
       "      <td>0.34</td>\n",
       "      <td>1.6</td>\n",
       "      <td>0.049</td>\n",
       "      <td>14.0</td>\n",
       "      <td>132.0</td>\n",
       "      <td>0.9940</td>\n",
       "      <td>3.30</td>\n",
       "      <td>0.49</td>\n",
       "      <td>9.5</td>\n",
       "      <td>6</td>\n",
       "    </tr>\n",
       "    <tr>\n",
       "      <th>2</th>\n",
       "      <td>8.1</td>\n",
       "      <td>0.28</td>\n",
       "      <td>0.40</td>\n",
       "      <td>6.9</td>\n",
       "      <td>0.050</td>\n",
       "      <td>30.0</td>\n",
       "      <td>97.0</td>\n",
       "      <td>0.9951</td>\n",
       "      <td>3.26</td>\n",
       "      <td>0.44</td>\n",
       "      <td>10.1</td>\n",
       "      <td>6</td>\n",
       "    </tr>\n",
       "    <tr>\n",
       "      <th>3</th>\n",
       "      <td>7.2</td>\n",
       "      <td>0.23</td>\n",
       "      <td>0.32</td>\n",
       "      <td>8.5</td>\n",
       "      <td>0.058</td>\n",
       "      <td>47.0</td>\n",
       "      <td>186.0</td>\n",
       "      <td>0.9956</td>\n",
       "      <td>3.19</td>\n",
       "      <td>0.40</td>\n",
       "      <td>9.9</td>\n",
       "      <td>6</td>\n",
       "    </tr>\n",
       "    <tr>\n",
       "      <th>4</th>\n",
       "      <td>7.2</td>\n",
       "      <td>0.23</td>\n",
       "      <td>0.32</td>\n",
       "      <td>8.5</td>\n",
       "      <td>0.058</td>\n",
       "      <td>47.0</td>\n",
       "      <td>186.0</td>\n",
       "      <td>0.9956</td>\n",
       "      <td>3.19</td>\n",
       "      <td>0.40</td>\n",
       "      <td>9.9</td>\n",
       "      <td>6</td>\n",
       "    </tr>\n",
       "  </tbody>\n",
       "</table>\n",
       "</div>"
      ],
      "text/plain": [
       "   fixed acidity  volatile acidity  citric acid  residual sugar  chlorides  \\\n",
       "0            7.0              0.27         0.36            20.7      0.045   \n",
       "1            6.3              0.30         0.34             1.6      0.049   \n",
       "2            8.1              0.28         0.40             6.9      0.050   \n",
       "3            7.2              0.23         0.32             8.5      0.058   \n",
       "4            7.2              0.23         0.32             8.5      0.058   \n",
       "\n",
       "   free sulfur dioxide  total sulfur dioxide  density    pH  sulphates  \\\n",
       "0                 45.0                 170.0   1.0010  3.00       0.45   \n",
       "1                 14.0                 132.0   0.9940  3.30       0.49   \n",
       "2                 30.0                  97.0   0.9951  3.26       0.44   \n",
       "3                 47.0                 186.0   0.9956  3.19       0.40   \n",
       "4                 47.0                 186.0   0.9956  3.19       0.40   \n",
       "\n",
       "   alcohol  quality  \n",
       "0      8.8        6  \n",
       "1      9.5        6  \n",
       "2     10.1        6  \n",
       "3      9.9        6  \n",
       "4      9.9        6  "
      ]
     },
     "execution_count": 2,
     "metadata": {},
     "output_type": "execute_result"
    }
   ],
   "source": [
    "## Load csv ##\n",
    "wine = pd.DataFrame.from_csv(\"winequality-white.csv\", sep = \";\", index_col=None)\n",
    "\n",
    "print(\"Length:\",len(wine))\n",
    "wine.head()"
   ]
  },
  {
   "cell_type": "code",
   "execution_count": 3,
   "metadata": {
    "collapsed": false,
    "deletable": true,
    "editable": true
   },
   "outputs": [
    {
     "data": {
      "text/html": [
       "<div>\n",
       "<table border=\"1\" class=\"dataframe\">\n",
       "  <thead>\n",
       "    <tr style=\"text-align: right;\">\n",
       "      <th></th>\n",
       "      <th>fixed acidity</th>\n",
       "      <th>volatile acidity</th>\n",
       "      <th>citric acid</th>\n",
       "      <th>residual sugar</th>\n",
       "      <th>chlorides</th>\n",
       "      <th>free sulfur dioxide</th>\n",
       "      <th>total sulfur dioxide</th>\n",
       "      <th>density</th>\n",
       "      <th>pH</th>\n",
       "      <th>sulphates</th>\n",
       "      <th>alcohol</th>\n",
       "    </tr>\n",
       "  </thead>\n",
       "  <tbody>\n",
       "    <tr>\n",
       "      <th>0</th>\n",
       "      <td>7.0</td>\n",
       "      <td>0.27</td>\n",
       "      <td>0.36</td>\n",
       "      <td>20.7</td>\n",
       "      <td>0.045</td>\n",
       "      <td>45.0</td>\n",
       "      <td>170.0</td>\n",
       "      <td>1.0010</td>\n",
       "      <td>3.00</td>\n",
       "      <td>0.45</td>\n",
       "      <td>8.8</td>\n",
       "    </tr>\n",
       "    <tr>\n",
       "      <th>1</th>\n",
       "      <td>6.3</td>\n",
       "      <td>0.30</td>\n",
       "      <td>0.34</td>\n",
       "      <td>1.6</td>\n",
       "      <td>0.049</td>\n",
       "      <td>14.0</td>\n",
       "      <td>132.0</td>\n",
       "      <td>0.9940</td>\n",
       "      <td>3.30</td>\n",
       "      <td>0.49</td>\n",
       "      <td>9.5</td>\n",
       "    </tr>\n",
       "    <tr>\n",
       "      <th>2</th>\n",
       "      <td>8.1</td>\n",
       "      <td>0.28</td>\n",
       "      <td>0.40</td>\n",
       "      <td>6.9</td>\n",
       "      <td>0.050</td>\n",
       "      <td>30.0</td>\n",
       "      <td>97.0</td>\n",
       "      <td>0.9951</td>\n",
       "      <td>3.26</td>\n",
       "      <td>0.44</td>\n",
       "      <td>10.1</td>\n",
       "    </tr>\n",
       "    <tr>\n",
       "      <th>3</th>\n",
       "      <td>7.2</td>\n",
       "      <td>0.23</td>\n",
       "      <td>0.32</td>\n",
       "      <td>8.5</td>\n",
       "      <td>0.058</td>\n",
       "      <td>47.0</td>\n",
       "      <td>186.0</td>\n",
       "      <td>0.9956</td>\n",
       "      <td>3.19</td>\n",
       "      <td>0.40</td>\n",
       "      <td>9.9</td>\n",
       "    </tr>\n",
       "    <tr>\n",
       "      <th>4</th>\n",
       "      <td>7.2</td>\n",
       "      <td>0.23</td>\n",
       "      <td>0.32</td>\n",
       "      <td>8.5</td>\n",
       "      <td>0.058</td>\n",
       "      <td>47.0</td>\n",
       "      <td>186.0</td>\n",
       "      <td>0.9956</td>\n",
       "      <td>3.19</td>\n",
       "      <td>0.40</td>\n",
       "      <td>9.9</td>\n",
       "    </tr>\n",
       "  </tbody>\n",
       "</table>\n",
       "</div>"
      ],
      "text/plain": [
       "   fixed acidity  volatile acidity  citric acid  residual sugar  chlorides  \\\n",
       "0            7.0              0.27         0.36            20.7      0.045   \n",
       "1            6.3              0.30         0.34             1.6      0.049   \n",
       "2            8.1              0.28         0.40             6.9      0.050   \n",
       "3            7.2              0.23         0.32             8.5      0.058   \n",
       "4            7.2              0.23         0.32             8.5      0.058   \n",
       "\n",
       "   free sulfur dioxide  total sulfur dioxide  density    pH  sulphates  \\\n",
       "0                 45.0                 170.0   1.0010  3.00       0.45   \n",
       "1                 14.0                 132.0   0.9940  3.30       0.49   \n",
       "2                 30.0                  97.0   0.9951  3.26       0.44   \n",
       "3                 47.0                 186.0   0.9956  3.19       0.40   \n",
       "4                 47.0                 186.0   0.9956  3.19       0.40   \n",
       "\n",
       "   alcohol  \n",
       "0      8.8  \n",
       "1      9.5  \n",
       "2     10.1  \n",
       "3      9.9  \n",
       "4      9.9  "
      ]
     },
     "execution_count": 3,
     "metadata": {},
     "output_type": "execute_result"
    }
   ],
   "source": [
    "wine_win = wine.drop('quality',1)\n",
    "type(wine_win)\n",
    "wine_win.head()"
   ]
  },
  {
   "cell_type": "code",
   "execution_count": 4,
   "metadata": {
    "collapsed": false,
    "deletable": true,
    "editable": true
   },
   "outputs": [],
   "source": [
    "wine_wi = (wine_win - wine_win.min())/(wine_win.max() - wine_win.min())"
   ]
  },
  {
   "cell_type": "code",
   "execution_count": 5,
   "metadata": {
    "collapsed": false,
    "deletable": true,
    "editable": true
   },
   "outputs": [
    {
     "data": {
      "text/html": [
       "<div>\n",
       "<table border=\"1\" class=\"dataframe\">\n",
       "  <thead>\n",
       "    <tr style=\"text-align: right;\">\n",
       "      <th></th>\n",
       "      <th>fixed acidity</th>\n",
       "      <th>volatile acidity</th>\n",
       "      <th>citric acid</th>\n",
       "      <th>residual sugar</th>\n",
       "      <th>chlorides</th>\n",
       "      <th>free sulfur dioxide</th>\n",
       "      <th>total sulfur dioxide</th>\n",
       "      <th>density</th>\n",
       "      <th>pH</th>\n",
       "      <th>sulphates</th>\n",
       "      <th>alcohol</th>\n",
       "    </tr>\n",
       "  </thead>\n",
       "  <tbody>\n",
       "    <tr>\n",
       "      <th>0</th>\n",
       "      <td>0.307692</td>\n",
       "      <td>0.186275</td>\n",
       "      <td>0.216867</td>\n",
       "      <td>0.308282</td>\n",
       "      <td>0.106825</td>\n",
       "      <td>0.149826</td>\n",
       "      <td>0.373550</td>\n",
       "      <td>0.267785</td>\n",
       "      <td>0.254545</td>\n",
       "      <td>0.267442</td>\n",
       "      <td>0.129032</td>\n",
       "    </tr>\n",
       "    <tr>\n",
       "      <th>1</th>\n",
       "      <td>0.240385</td>\n",
       "      <td>0.215686</td>\n",
       "      <td>0.204819</td>\n",
       "      <td>0.015337</td>\n",
       "      <td>0.118694</td>\n",
       "      <td>0.041812</td>\n",
       "      <td>0.285383</td>\n",
       "      <td>0.132832</td>\n",
       "      <td>0.527273</td>\n",
       "      <td>0.313953</td>\n",
       "      <td>0.241935</td>\n",
       "    </tr>\n",
       "    <tr>\n",
       "      <th>2</th>\n",
       "      <td>0.413462</td>\n",
       "      <td>0.196078</td>\n",
       "      <td>0.240964</td>\n",
       "      <td>0.096626</td>\n",
       "      <td>0.121662</td>\n",
       "      <td>0.097561</td>\n",
       "      <td>0.204176</td>\n",
       "      <td>0.154039</td>\n",
       "      <td>0.490909</td>\n",
       "      <td>0.255814</td>\n",
       "      <td>0.338710</td>\n",
       "    </tr>\n",
       "    <tr>\n",
       "      <th>3</th>\n",
       "      <td>0.326923</td>\n",
       "      <td>0.147059</td>\n",
       "      <td>0.192771</td>\n",
       "      <td>0.121166</td>\n",
       "      <td>0.145401</td>\n",
       "      <td>0.156794</td>\n",
       "      <td>0.410673</td>\n",
       "      <td>0.163678</td>\n",
       "      <td>0.427273</td>\n",
       "      <td>0.209302</td>\n",
       "      <td>0.306452</td>\n",
       "    </tr>\n",
       "    <tr>\n",
       "      <th>4</th>\n",
       "      <td>0.326923</td>\n",
       "      <td>0.147059</td>\n",
       "      <td>0.192771</td>\n",
       "      <td>0.121166</td>\n",
       "      <td>0.145401</td>\n",
       "      <td>0.156794</td>\n",
       "      <td>0.410673</td>\n",
       "      <td>0.163678</td>\n",
       "      <td>0.427273</td>\n",
       "      <td>0.209302</td>\n",
       "      <td>0.306452</td>\n",
       "    </tr>\n",
       "  </tbody>\n",
       "</table>\n",
       "</div>"
      ],
      "text/plain": [
       "   fixed acidity  volatile acidity  citric acid  residual sugar  chlorides  \\\n",
       "0       0.307692          0.186275     0.216867        0.308282   0.106825   \n",
       "1       0.240385          0.215686     0.204819        0.015337   0.118694   \n",
       "2       0.413462          0.196078     0.240964        0.096626   0.121662   \n",
       "3       0.326923          0.147059     0.192771        0.121166   0.145401   \n",
       "4       0.326923          0.147059     0.192771        0.121166   0.145401   \n",
       "\n",
       "   free sulfur dioxide  total sulfur dioxide   density        pH  sulphates  \\\n",
       "0             0.149826              0.373550  0.267785  0.254545   0.267442   \n",
       "1             0.041812              0.285383  0.132832  0.527273   0.313953   \n",
       "2             0.097561              0.204176  0.154039  0.490909   0.255814   \n",
       "3             0.156794              0.410673  0.163678  0.427273   0.209302   \n",
       "4             0.156794              0.410673  0.163678  0.427273   0.209302   \n",
       "\n",
       "    alcohol  \n",
       "0  0.129032  \n",
       "1  0.241935  \n",
       "2  0.338710  \n",
       "3  0.306452  \n",
       "4  0.306452  "
      ]
     },
     "execution_count": 5,
     "metadata": {},
     "output_type": "execute_result"
    }
   ],
   "source": [
    "wine_wi.head()"
   ]
  },
  {
   "cell_type": "code",
   "execution_count": 6,
   "metadata": {
    "collapsed": false,
    "deletable": true,
    "editable": true
   },
   "outputs": [
    {
     "name": "stdout",
     "output_type": "stream",
     "text": [
      "fixed acidity           1.0\n",
      "volatile acidity        1.0\n",
      "citric acid             1.0\n",
      "residual sugar          1.0\n",
      "chlorides               1.0\n",
      "free sulfur dioxide     1.0\n",
      "total sulfur dioxide    1.0\n",
      "density                 1.0\n",
      "pH                      1.0\n",
      "sulphates               1.0\n",
      "alcohol                 1.0\n",
      "dtype: float64 fixed acidity           0.0\n",
      "volatile acidity        0.0\n",
      "citric acid             0.0\n",
      "residual sugar          0.0\n",
      "chlorides               0.0\n",
      "free sulfur dioxide     0.0\n",
      "total sulfur dioxide    0.0\n",
      "density                 0.0\n",
      "pH                      0.0\n",
      "sulphates               0.0\n",
      "alcohol                 0.0\n",
      "dtype: float64\n"
     ]
    }
   ],
   "source": [
    "print(wine_wi.max(),wine_wi.min())"
   ]
  },
  {
   "cell_type": "code",
   "execution_count": 7,
   "metadata": {
    "collapsed": false,
    "deletable": true,
    "editable": true
   },
   "outputs": [
    {
     "name": "stdout",
     "output_type": "stream",
     "text": [
      "4898\n"
     ]
    },
    {
     "data": {
      "text/plain": [
       "array([[ 0.30769231,  0.18627451,  0.21686747, ...,  0.25454545,\n",
       "         0.26744186,  0.12903226],\n",
       "       [ 0.24038462,  0.21568627,  0.20481928, ...,  0.52727273,\n",
       "         0.31395349,  0.24193548],\n",
       "       [ 0.41346154,  0.19607843,  0.24096386, ...,  0.49090909,\n",
       "         0.25581395,  0.33870968],\n",
       "       ..., \n",
       "       [ 0.25961538,  0.15686275,  0.11445783, ...,  0.24545455,\n",
       "         0.27906977,  0.22580645],\n",
       "       [ 0.16346154,  0.20588235,  0.18072289, ...,  0.56363636,\n",
       "         0.18604651,  0.77419355],\n",
       "       [ 0.21153846,  0.12745098,  0.22891566, ...,  0.49090909,\n",
       "         0.11627907,  0.61290323]])"
      ]
     },
     "execution_count": 7,
     "metadata": {},
     "output_type": "execute_result"
    }
   ],
   "source": [
    "wine_np_X = wine_wi.as_matrix()\n",
    "print(len(wine_np_X))\n",
    "wine_np_X"
   ]
  },
  {
   "cell_type": "code",
   "execution_count": 8,
   "metadata": {
    "collapsed": false,
    "deletable": true,
    "editable": true
   },
   "outputs": [
    {
     "data": {
      "text/plain": [
       "array([6, 6, 6, ..., 6, 7, 6])"
      ]
     },
     "execution_count": 8,
     "metadata": {},
     "output_type": "execute_result"
    }
   ],
   "source": [
    "wine_np_y = wine['quality'].as_matrix()\n",
    "wine_np_y"
   ]
  },
  {
   "cell_type": "code",
   "execution_count": 9,
   "metadata": {
    "collapsed": false,
    "deletable": true,
    "editable": true
   },
   "outputs": [],
   "source": [
    "np.random.seed(1943)\n",
    "indices = np.random.permutation(len(wine_np_X))\n",
    "n = int(0.9*len(wine_np_X))\n",
    "wine_X_train = wine_np_X[indices[0:n]]\n",
    "wine_y_train = wine_np_y[indices[0:n]]\n",
    "wine_X_test = wine_np_X[indices[n:4898]]\n",
    "wine_y_test = wine_np_y[indices[n:4898]]"
   ]
  },
  {
   "cell_type": "code",
   "execution_count": 10,
   "metadata": {
    "collapsed": false,
    "deletable": true,
    "editable": true
   },
   "outputs": [
    {
     "data": {
      "text/plain": [
       "490"
      ]
     },
     "execution_count": 10,
     "metadata": {},
     "output_type": "execute_result"
    }
   ],
   "source": [
    "len(wine_y_test)"
   ]
  },
  {
   "cell_type": "code",
   "execution_count": 11,
   "metadata": {
    "collapsed": false,
    "deletable": true,
    "editable": true
   },
   "outputs": [
    {
     "data": {
      "text/plain": [
       "4408"
      ]
     },
     "execution_count": 11,
     "metadata": {},
     "output_type": "execute_result"
    }
   ],
   "source": [
    "len(wine_y_train)"
   ]
  },
  {
   "cell_type": "code",
   "execution_count": 12,
   "metadata": {
    "collapsed": false,
    "deletable": true,
    "editable": true,
    "scrolled": true
   },
   "outputs": [
    {
     "data": {
      "text/plain": [
       "69"
      ]
     },
     "execution_count": 12,
     "metadata": {},
     "output_type": "execute_result"
    }
   ],
   "source": [
    "ngh = int(math.sqrt(4898))\n",
    "ngh"
   ]
  },
  {
   "cell_type": "code",
   "execution_count": 13,
   "metadata": {
    "collapsed": true,
    "deletable": true,
    "editable": true
   },
   "outputs": [],
   "source": [
    "def cosdist(x, y):\n",
    "    #return np.sum(x*y)/np.sqrt(np.sum(x)**2 * np.sum(y)**2)\n",
    "    return spatial.distance.cosine(x,y)"
   ]
  },
  {
   "cell_type": "markdown",
   "metadata": {
    "deletable": true,
    "editable": true
   },
   "source": [
    "# kNN Define"
   ]
  },
  {
   "cell_type": "code",
   "execution_count": 14,
   "metadata": {
    "collapsed": false,
    "deletable": true,
    "editable": true
   },
   "outputs": [],
   "source": [
    "## Linear Search ##\n",
    "knn_LSman = KNeighborsClassifier(n_neighbors=ngh, algorithm='brute', metric='manhattan')\n",
    "knn_LSelu = KNeighborsClassifier(n_neighbors=ngh, algorithm='brute', metric='euclidean')\n",
    "knn_LScos = KNeighborsClassifier(n_neighbors=ngh, algorithm='brute', metric=cosdist)\n",
    "## KDTree ##\n",
    "knn_KDman = KNeighborsClassifier(n_neighbors=ngh, algorithm='kd_tree', metric='manhattan')\n",
    "knn_KDelu = KNeighborsClassifier(n_neighbors=ngh, algorithm='kd_tree', metric='euclidean')\n",
    "#knn_KDcos = KNeighborsClassifier(n_neighbors=ngh, algorithm='kd_tree', metric=cosdist)"
   ]
  },
  {
   "cell_type": "markdown",
   "metadata": {
    "deletable": true,
    "editable": true
   },
   "source": [
    "# Linear Search"
   ]
  },
  {
   "cell_type": "markdown",
   "metadata": {
    "deletable": true,
    "editable": true
   },
   "source": [
    "### kNN_LSman"
   ]
  },
  {
   "cell_type": "code",
   "execution_count": 15,
   "metadata": {
    "collapsed": false,
    "deletable": true,
    "editable": true
   },
   "outputs": [
    {
     "name": "stdout",
     "output_type": "stream",
     "text": [
      "Confusion Matrix: \n",
      " [[  0   0   0   2   0   0   0]\n",
      " [  0   0   9   5   0   0   0]\n",
      " [  0   0  82  71   3   0   0]\n",
      " [  0   0  35 165  13   0   0]\n",
      " [  0   0   2  62  25   0   0]\n",
      " [  0   0   0  10   5   0   0]\n",
      " [  0   0   0   1   0   0   0]]\n",
      "\n",
      "Accuracy:  0.555102040816\n"
     ]
    }
   ],
   "source": [
    "## Linear Search manhattan \n",
    "\n",
    "s_time1 = time.time()\n",
    "knn_LSman.fit(wine_X_train,wine_y_train)\n",
    "e_time1 = time.time() - s_time1\n",
    "\n",
    "s_time11 = time.time()\n",
    "wine_y_pred = knn_LSman.predict(wine_X_test)\n",
    "e_time11 = time.time() - s_time11\n",
    "#print(np.unique(wine_y_test))\n",
    "#print(np.unique(wine_y_pred))\n",
    "print(\"Confusion Matrix: \\n\", confusion_matrix(wine_y_test, wine_y_pred, labels=[3,4,5,6,7,8,9]))\n",
    "print(\"\\nAccuracy: \",accuracy_score(wine_y_test, wine_y_pred))"
   ]
  },
  {
   "cell_type": "code",
   "execution_count": 16,
   "metadata": {
    "collapsed": false,
    "deletable": true,
    "editable": true
   },
   "outputs": [
    {
     "name": "stdout",
     "output_type": "stream",
     "text": [
      "Confusion Matrix: \n",
      " [[  0   0   0   2   0   0   0]\n",
      " [  0   0   9   5   0   0   0]\n",
      " [  0   0  86  68   2   0   0]\n",
      " [  0   0  31 172  10   0   0]\n",
      " [  0   0   1  61  27   0   0]\n",
      " [  0   0   0  10   5   0   0]\n",
      " [  0   0   0   1   0   0   0]]\n",
      "\n",
      "Accuracy:  0.581632653061\n"
     ]
    }
   ],
   "source": [
    "## Resubstitution Validation\n",
    "knn_LSman.fit(wine_np_X,wine_np_y)\n",
    "wine_y_pred = knn_LSman.predict(wine_X_test)\n",
    "print(\"Confusion Matrix: \\n\", confusion_matrix(wine_y_test, wine_y_pred, labels=[3,4,5,6,7,8,9]))\n",
    "print(\"\\nAccuracy: \",accuracy_score(wine_y_test, wine_y_pred))"
   ]
  },
  {
   "cell_type": "code",
   "execution_count": 17,
   "metadata": {
    "collapsed": false,
    "deletable": true,
    "editable": true
   },
   "outputs": [
    {
     "name": "stdout",
     "output_type": "stream",
     "text": [
      "Optimal number of neighbors: 1\n"
     ]
    },
    {
     "data": {
      "image/png": "[encoded data removed]",
      "text/plain": [
       "<matplotlib.figure.Figure at 0x7fb1d22505c0>"
      ]
     },
     "metadata": {},
     "output_type": "display_data"
    }
   ],
   "source": [
    "## Cross Validation\n",
    "neighbors = np.array(range(1,15))\n",
    "neighbors = neighbors*2 -1\n",
    "\n",
    "cv_score = []\n",
    "\n",
    "for k in neighbors:\n",
    "    knn = KNeighborsClassifier(n_neighbors=k, algorithm='brute', metric='manhattan')\n",
    "    scores = cross_val_score(knn, wine_X_train, wine_y_train, cv=4, scoring='accuracy')\n",
    "    cv_score.append(scores.mean())\n",
    "    \n",
    "MSE = [1 - x for x in cv_score]\n",
    "op_k = neighbors[MSE.index(min(MSE))]\n",
    "print(\"Optimal number of neighbors:\", op_k)\n",
    "\n",
    "plt.plot(neighbors, MSE)\n",
    "plt.xlabel('Neighbors K')\n",
    "plt.ylabel('MSE')\n",
    "plt.show()"
   ]
  },
  {
   "cell_type": "code",
   "execution_count": 18,
   "metadata": {
    "collapsed": false,
    "deletable": true,
    "editable": true
   },
   "outputs": [
    {
     "name": "stdout",
     "output_type": "stream",
     "text": [
      "Confusion Matrix: \n",
      " [[  0   0   1   1   0   0   0]\n",
      " [  0   6   4   4   0   0   0]\n",
      " [  0   4 104  42   6   0   0]\n",
      " [  1   2  29 155  21   5   0]\n",
      " [  0   0   5  31  49   4   0]\n",
      " [  0   0   0   4   7   4   0]\n",
      " [  0   0   1   0   0   0   0]]\n",
      "\n",
      "Accuracy:  0.648979591837\n"
     ]
    }
   ],
   "source": [
    "knn = KNeighborsClassifier(n_neighbors=1, algorithm='brute', metric='manhattan')\n",
    "knn.fit(wine_X_train,wine_y_train)\n",
    "wine_y_pred = knn.predict(wine_X_test)\n",
    "print(\"Confusion Matrix: \\n\", confusion_matrix(wine_y_test, wine_y_pred, labels=[3,4,5,6,7,8,9]))\n",
    "print(\"\\nAccuracy: \", accuracy_score(wine_y_test, wine_y_pred))"
   ]
  },
  {
   "cell_type": "markdown",
   "metadata": {
    "deletable": true,
    "editable": true
   },
   "source": [
    "### kNN_LSeuc"
   ]
  },
  {
   "cell_type": "code",
   "execution_count": 16,
   "metadata": {
    "collapsed": false,
    "deletable": true,
    "editable": true
   },
   "outputs": [
    {
     "name": "stdout",
     "output_type": "stream",
     "text": [
      "Confusion Matrix: \n",
      " [[  0   0   1   1   0   0   0]\n",
      " [  0   0   9   5   0   0   0]\n",
      " [  0   0  79  76   1   0   0]\n",
      " [  0   0  36 165  12   0   0]\n",
      " [  0   0   1  63  25   0   0]\n",
      " [  0   0   0  11   4   0   0]\n",
      " [  0   0   0   1   0   0   0]]\n",
      "\n",
      "Accuracy:  0.548979591837\n"
     ]
    }
   ],
   "source": [
    "## Linear Search euclidean\n",
    "s_time2 = time.time()\n",
    "knn_LSelu.fit(wine_X_train,wine_y_train)\n",
    "e_time2 = time.time() - s_time2\n",
    "\n",
    "s_time22 = time.time()\n",
    "wine_y_pred = knn_LSelu.predict(wine_X_test)\n",
    "e_time22 = time.time() - s_time22\n",
    "\n",
    "#print(np.unique(wine_y_test))\n",
    "#print(np.unique(wine_y_pred))\n",
    "print(\"Confusion Matrix: \\n\", confusion_matrix(wine_y_test, wine_y_pred, labels=[3,4,5,6,7,8,9]))\n",
    "print(\"\\nAccuracy: \",accuracy_score(wine_y_test, wine_y_pred))"
   ]
  },
  {
   "cell_type": "code",
   "execution_count": 20,
   "metadata": {
    "collapsed": false,
    "deletable": true,
    "editable": true
   },
   "outputs": [
    {
     "name": "stdout",
     "output_type": "stream",
     "text": [
      "Confusion Matrix: \n",
      " [[  0   0   1   1   0   0   0]\n",
      " [  0   0   8   6   0   0   0]\n",
      " [  0   0  85  70   1   0   0]\n",
      " [  0   0  32 171  10   0   0]\n",
      " [  0   0   1  60  28   0   0]\n",
      " [  0   0   0   8   7   0   0]\n",
      " [  0   0   0   1   0   0   0]]\n",
      "\n",
      "Accuracy:  0.579591836735\n"
     ]
    }
   ],
   "source": [
    "## Resubstitution Validation\n",
    "knn_LSelu.fit(wine_np_X,wine_np_y)\n",
    "wine_y_pred = knn_LSelu.predict(wine_X_test)\n",
    "print(\"Confusion Matrix: \\n\", confusion_matrix(wine_y_test, wine_y_pred, labels=[3,4,5,6,7,8,9]))\n",
    "print(\"\\nAccuracy: \",accuracy_score(wine_y_test, wine_y_pred))"
   ]
  },
  {
   "cell_type": "code",
   "execution_count": 21,
   "metadata": {
    "collapsed": false,
    "deletable": true,
    "editable": true
   },
   "outputs": [
    {
     "name": "stdout",
     "output_type": "stream",
     "text": [
      "Optimal number of neighbors: 1\n"
     ]
    },
    {
     "data": {
      "image/png": "[encoded data removed]",
      "text/plain": [
       "<matplotlib.figure.Figure at 0x7fb1c8bea7b8>"
      ]
     },
     "metadata": {},
     "output_type": "display_data"
    }
   ],
   "source": [
    "## Cross Validation\n",
    "neighbors = np.array(range(1,15))\n",
    "neighbors = neighbors*2 -1\n",
    "\n",
    "cv_score = []\n",
    "\n",
    "for k in neighbors:\n",
    "    knn = KNeighborsClassifier(n_neighbors=k, algorithm='brute', metric='euclidean')\n",
    "    scores = cross_val_score(knn, wine_X_train, wine_y_train, cv=4, scoring='accuracy')\n",
    "    cv_score.append(scores.mean())\n",
    "    \n",
    "MSE = [1 - x for x in cv_score]\n",
    "op_k = neighbors[MSE.index(min(MSE))]\n",
    "print(\"Optimal number of neighbors:\", op_k)\n",
    "\n",
    "plt.plot(neighbors, MSE)\n",
    "plt.xlabel('Neighbors K')\n",
    "plt.ylabel('MSE')\n",
    "plt.show()"
   ]
  },
  {
   "cell_type": "code",
   "execution_count": 22,
   "metadata": {
    "collapsed": false,
    "deletable": true,
    "editable": true
   },
   "outputs": [
    {
     "name": "stdout",
     "output_type": "stream",
     "text": [
      "Confusion Matrix: \n",
      " [[  0   1   0   1   0   0   0]\n",
      " [  0   5   6   2   0   1   0]\n",
      " [  0   6 100  47   3   0   0]\n",
      " [  0   1  35 151  24   2   0]\n",
      " [  0   0   6  32  47   4   0]\n",
      " [  0   0   0   5   5   5   0]\n",
      " [  0   0   1   0   0   0   0]]\n",
      "\n",
      "Accuracy:  0.628571428571\n"
     ]
    }
   ],
   "source": [
    "knn = KNeighborsClassifier(n_neighbors=1, algorithm='brute', metric='euclidean')\n",
    "knn.fit(wine_X_train,wine_y_train)\n",
    "wine_y_pred = knn.predict(wine_X_test)\n",
    "print(\"Confusion Matrix: \\n\", confusion_matrix(wine_y_test, wine_y_pred, labels=[3,4,5,6,7,8,9]))\n",
    "print(\"\\nAccuracy: \", accuracy_score(wine_y_test, wine_y_pred))"
   ]
  },
  {
   "cell_type": "markdown",
   "metadata": {
    "deletable": true,
    "editable": true
   },
   "source": [
    "### kNN_LScos"
   ]
  },
  {
   "cell_type": "code",
   "execution_count": 17,
   "metadata": {
    "collapsed": false,
    "deletable": true,
    "editable": true
   },
   "outputs": [
    {
     "name": "stdout",
     "output_type": "stream",
     "text": [
      "Confusion Matrix: \n",
      " [[  0   0   2   0   0   0   0]\n",
      " [  0   0   9   5   0   0   0]\n",
      " [  0   0  78  74   4   0   0]\n",
      " [  0   0  33 167  13   0   0]\n",
      " [  0   0   0  63  26   0   0]\n",
      " [  0   0   0  13   2   0   0]\n",
      " [  0   0   0   1   0   0   0]]\n",
      "\n",
      "Accuracy:  0.55306122449\n"
     ]
    }
   ],
   "source": [
    "## Linear Search cosine distance\n",
    "s_time3 = time.time()\n",
    "knn_LScos.fit(wine_X_train,wine_y_train)\n",
    "e_time3 = time.time() - s_time3\n",
    "\n",
    "s_time33 = time.time()\n",
    "wine_y_pred = knn_LScos.predict(wine_X_test)\n",
    "e_time33 = time.time() - s_time33\n",
    "#print(np.unique(wine_y_test))\n",
    "#print(np.unique(wine_y_pred))\n",
    "print(\"Confusion Matrix: \\n\", confusion_matrix(wine_y_test, wine_y_pred, labels=[3,4,5,6,7,8,9]))\n",
    "print(\"\\nAccuracy: \",accuracy_score(wine_y_test, wine_y_pred))"
   ]
  },
  {
   "cell_type": "code",
   "execution_count": 24,
   "metadata": {
    "collapsed": false,
    "deletable": true,
    "editable": true
   },
   "outputs": [
    {
     "name": "stdout",
     "output_type": "stream",
     "text": [
      "Confusion Matrix: \n",
      " [[  0   0   2   0   0   0   0]\n",
      " [  0   0   9   4   1   0   0]\n",
      " [  0   0  83  70   3   0   0]\n",
      " [  0   0  32 167  14   0   0]\n",
      " [  0   0   1  63  25   0   0]\n",
      " [  0   0   0  13   2   0   0]\n",
      " [  0   0   0   1   0   0   0]]\n",
      "\n",
      "Accuracy:  0.561224489796\n"
     ]
    }
   ],
   "source": [
    "## Resubstitution Validation\n",
    "knn_LScos.fit(wine_np_X,wine_np_y)\n",
    "wine_y_pred = knn_LScos.predict(wine_X_test)\n",
    "print(\"Confusion Matrix: \\n\", confusion_matrix(wine_y_test, wine_y_pred, labels=[3,4,5,6,7,8,9]))\n",
    "print(\"\\nAccuracy: \",accuracy_score(wine_y_test, wine_y_pred))"
   ]
  },
  {
   "cell_type": "code",
   "execution_count": 25,
   "metadata": {
    "collapsed": false,
    "deletable": true,
    "editable": true
   },
   "outputs": [
    {
     "name": "stdout",
     "output_type": "stream",
     "text": [
      "Optimal number of neighbors: 1\n"
     ]
    },
    {
     "data": {
      "image/png": "[encoded data removed]",
      "text/plain": [
       "<matplotlib.figure.Figure at 0x7fb1c8ad8e80>"
      ]
     },
     "metadata": {},
     "output_type": "display_data"
    }
   ],
   "source": [
    "## Cross Validation\n",
    "neighbors = np.array(range(1,15))\n",
    "neighbors = neighbors*2 -1\n",
    "\n",
    "cv_score = []\n",
    "\n",
    "for k in neighbors:\n",
    "    knn = KNeighborsClassifier(n_neighbors=k, algorithm='brute', metric=cosdist)\n",
    "    scores = cross_val_score(knn, wine_X_train, wine_y_train, cv=4, scoring='accuracy')\n",
    "    cv_score.append(scores.mean())\n",
    "    \n",
    "MSE = [1 - x for x in cv_score]\n",
    "op_k = neighbors[MSE.index(min(MSE))]\n",
    "print(\"Optimal number of neighbors:\", op_k)\n",
    "\n",
    "plt.plot(neighbors, MSE)\n",
    "plt.xlabel('Neighbors K')\n",
    "plt.ylabel('MSE')\n",
    "plt.show()"
   ]
  },
  {
   "cell_type": "code",
   "execution_count": 26,
   "metadata": {
    "collapsed": false,
    "deletable": true,
    "editable": true
   },
   "outputs": [
    {
     "name": "stdout",
     "output_type": "stream",
     "text": [
      "Confusion Matrix: \n",
      " [[  0   1   0   1   0   0   0]\n",
      " [  0   5   5   3   0   1   0]\n",
      " [  0   8  96  48   4   0   0]\n",
      " [  1   1  31 153  23   4   0]\n",
      " [  0   0   6  28  49   6   0]\n",
      " [  0   0   0   4   6   5   0]\n",
      " [  0   0   0   0   1   0   0]]\n",
      "\n",
      "Accuracy:  0.628571428571\n"
     ]
    }
   ],
   "source": [
    "knn = KNeighborsClassifier(n_neighbors=1, algorithm='brute', metric=cosdist)\n",
    "knn.fit(wine_X_train,wine_y_train)\n",
    "wine_y_pred = knn.predict(wine_X_test)\n",
    "print(\"Confusion Matrix: \\n\", confusion_matrix(wine_y_test, wine_y_pred, labels=[3,4,5,6,7,8,9]))\n",
    "print(\"\\nAccuracy: \", accuracy_score(wine_y_test, wine_y_pred))"
   ]
  },
  {
   "cell_type": "markdown",
   "metadata": {
    "collapsed": true,
    "deletable": true,
    "editable": true
   },
   "source": [
    "# KD-Tree"
   ]
  },
  {
   "cell_type": "markdown",
   "metadata": {
    "deletable": true,
    "editable": true
   },
   "source": [
    "### KDman"
   ]
  },
  {
   "cell_type": "code",
   "execution_count": 18,
   "metadata": {
    "collapsed": false,
    "deletable": true,
    "editable": true
   },
   "outputs": [
    {
     "name": "stdout",
     "output_type": "stream",
     "text": [
      "Confusion Matrix: \n",
      " [[  0   0   0   2   0   0   0]\n",
      " [  0   0   9   5   0   0   0]\n",
      " [  0   0  82  71   3   0   0]\n",
      " [  0   0  35 165  13   0   0]\n",
      " [  0   0   2  62  25   0   0]\n",
      " [  0   0   0  10   5   0   0]\n",
      " [  0   0   0   1   0   0   0]]\n",
      "\n",
      "Accuracy:  0.555102040816\n"
     ]
    }
   ],
   "source": [
    "## KD-Tree manhattan\n",
    "s_time4 = time.time()\n",
    "knn_KDman.fit(wine_X_train,wine_y_train)\n",
    "e_time4 = time.time() - s_time4\n",
    "\n",
    "s_time44 = time.time()\n",
    "wine_y_pred = knn_KDman.predict(wine_X_test)\n",
    "e_time44 = time.time() - s_time44\n",
    "#print(np.unique(wine_y_test))\n",
    "#print(np.unique(wine_y_pred))\n",
    "print(\"Confusion Matrix: \\n\", confusion_matrix(wine_y_test, wine_y_pred, labels=[3,4,5,6,7,8,9]))\n",
    "print(\"\\nAccuracy: \",accuracy_score(wine_y_test, wine_y_pred))"
   ]
  },
  {
   "cell_type": "code",
   "execution_count": 16,
   "metadata": {
    "collapsed": false,
    "deletable": true,
    "editable": true
   },
   "outputs": [
    {
     "name": "stdout",
     "output_type": "stream",
     "text": [
      "Confusion Matrix: \n",
      " [[  0   0   0   2   0   0   0]\n",
      " [  0   0   9   5   0   0   0]\n",
      " [  0   0  86  68   2   0   0]\n",
      " [  0   0  31 172  10   0   0]\n",
      " [  0   0   1  61  27   0   0]\n",
      " [  0   0   0  10   5   0   0]\n",
      " [  0   0   0   1   0   0   0]]\n",
      "\n",
      "Accuracy:  0.581632653061\n"
     ]
    }
   ],
   "source": [
    "## Resubstitution Validation\n",
    "knn_KDman.fit(wine_np_X,wine_np_y)\n",
    "wine_y_pred = knn_KDman.predict(wine_X_test)\n",
    "print(\"Confusion Matrix: \\n\", confusion_matrix(wine_y_test, wine_y_pred, labels=[3,4,5,6,7,8,9]))\n",
    "print(\"\\nAccuracy: \",accuracy_score(wine_y_test, wine_y_pred))"
   ]
  },
  {
   "cell_type": "code",
   "execution_count": 17,
   "metadata": {
    "collapsed": false,
    "deletable": true,
    "editable": true
   },
   "outputs": [
    {
     "name": "stdout",
     "output_type": "stream",
     "text": [
      "Optimal number of neighbors: 1\n"
     ]
    },
    {
     "data": {
      "image/png": "[encoded data removed]",
      "text/plain": [
       "<matplotlib.figure.Figure at 0x7fdccb61fa20>"
      ]
     },
     "metadata": {},
     "output_type": "display_data"
    },
    {
     "name": "stdout",
     "output_type": "stream",
     "text": [
      "Confusion Matrix: \n",
      " [[  0   0   1   1   0   0   0]\n",
      " [  0   6   4   4   0   0   0]\n",
      " [  0   4 104  42   6   0   0]\n",
      " [  1   2  29 155  21   5   0]\n",
      " [  0   0   5  31  49   4   0]\n",
      " [  0   0   0   4   7   4   0]\n",
      " [  0   0   1   0   0   0   0]]\n",
      "\n",
      "Accuracy:  0.648979591837\n"
     ]
    }
   ],
   "source": [
    "## Cross Validation\n",
    "neighbors = np.array(range(1,15))\n",
    "neighbors = neighbors*2 -1\n",
    "\n",
    "cv_score = []\n",
    "\n",
    "for k in neighbors:\n",
    "    knn = KNeighborsClassifier(n_neighbors=k, algorithm='kd_tree', metric='manhattan')\n",
    "    scores = cross_val_score(knn, wine_X_train, wine_y_train, cv=4, scoring='accuracy')\n",
    "    cv_score.append(scores.mean())\n",
    "    \n",
    "MSE = [1 - x for x in cv_score]\n",
    "op_k = neighbors[MSE.index(min(MSE))]\n",
    "print(\"Optimal number of neighbors:\", op_k)\n",
    "\n",
    "plt.plot(neighbors, MSE)\n",
    "plt.xlabel('Neighbors K')\n",
    "plt.ylabel('MSE')\n",
    "plt.show()\n",
    "\n",
    "knn = KNeighborsClassifier(n_neighbors=1, algorithm='kd_tree', metric='manhattan')\n",
    "knn.fit(wine_X_train,wine_y_train)\n",
    "wine_y_pred = knn.predict(wine_X_test)\n",
    "print(\"Confusion Matrix: \\n\", confusion_matrix(wine_y_test, wine_y_pred, labels=[3,4,5,6,7,8,9]))\n",
    "print(\"\\nAccuracy: \", accuracy_score(wine_y_test, wine_y_pred))"
   ]
  },
  {
   "cell_type": "markdown",
   "metadata": {
    "deletable": true,
    "editable": true
   },
   "source": [
    "### KD euc"
   ]
  },
  {
   "cell_type": "code",
   "execution_count": 19,
   "metadata": {
    "collapsed": false,
    "deletable": true,
    "editable": true
   },
   "outputs": [
    {
     "name": "stdout",
     "output_type": "stream",
     "text": [
      "Confusion Matrix: \n",
      " [[  0   0   1   1   0   0   0]\n",
      " [  0   0   9   5   0   0   0]\n",
      " [  0   0  79  76   1   0   0]\n",
      " [  0   0  36 165  12   0   0]\n",
      " [  0   0   1  63  25   0   0]\n",
      " [  0   0   0  11   4   0   0]\n",
      " [  0   0   0   1   0   0   0]]\n",
      "\n",
      "Accuracy:  0.548979591837\n"
     ]
    }
   ],
   "source": [
    "## KD-Tree euclidean \n",
    "s_time5 = time.time()\n",
    "knn_KDelu.fit(wine_X_train,wine_y_train)\n",
    "e_time5 = time.time() - s_time5\n",
    "\n",
    "s_time55 = time.time()\n",
    "wine_y_pred = knn_KDelu.predict(wine_X_test)\n",
    "e_time55 = time.time() - s_time55\n",
    "#print(np.unique(wine_y_test))\n",
    "#print(np.unique(wine_y_pred))\n",
    "print(\"Confusion Matrix: \\n\", confusion_matrix(wine_y_test, wine_y_pred, labels=[3,4,5,6,7,8,9]))\n",
    "print(\"\\nAccuracy: \",accuracy_score(wine_y_test, wine_y_pred))"
   ]
  },
  {
   "cell_type": "code",
   "execution_count": 19,
   "metadata": {
    "collapsed": false,
    "deletable": true,
    "editable": true
   },
   "outputs": [
    {
     "name": "stdout",
     "output_type": "stream",
     "text": [
      "Confusion Matrix: \n",
      " [[  0   0   1   1   0   0   0]\n",
      " [  0   0   8   6   0   0   0]\n",
      " [  0   0  85  70   1   0   0]\n",
      " [  0   0  32 171  10   0   0]\n",
      " [  0   0   1  60  28   0   0]\n",
      " [  0   0   0   8   7   0   0]\n",
      " [  0   0   0   1   0   0   0]]\n",
      "\n",
      "Accuracy:  0.579591836735\n"
     ]
    }
   ],
   "source": [
    "## Resubstitution Validation\n",
    "knn_KDelu.fit(wine_np_X,wine_np_y)\n",
    "wine_y_pred = knn_KDelu.predict(wine_X_test)\n",
    "print(\"Confusion Matrix: \\n\", confusion_matrix(wine_y_test, wine_y_pred, labels=[3,4,5,6,7,8,9]))\n",
    "print(\"\\nAccuracy: \",accuracy_score(wine_y_test, wine_y_pred))"
   ]
  },
  {
   "cell_type": "code",
   "execution_count": 20,
   "metadata": {
    "collapsed": false,
    "deletable": true,
    "editable": true
   },
   "outputs": [
    {
     "name": "stdout",
     "output_type": "stream",
     "text": [
      "Optimal number of neighbors: 1\n"
     ]
    },
    {
     "data": {
      "image/png": "[encoded data removed]",
      "text/plain": [
       "<matplotlib.figure.Figure at 0x7fdce5664e10>"
      ]
     },
     "metadata": {},
     "output_type": "display_data"
    },
    {
     "name": "stdout",
     "output_type": "stream",
     "text": [
      "Confusion Matrix: \n",
      " [[  0   1   0   1   0   0   0]\n",
      " [  0   5   6   2   0   1   0]\n",
      " [  0   6 100  47   3   0   0]\n",
      " [  0   1  35 151  24   2   0]\n",
      " [  0   0   6  32  47   4   0]\n",
      " [  0   0   0   5   5   5   0]\n",
      " [  0   0   1   0   0   0   0]]\n",
      "\n",
      "Accuracy:  0.628571428571\n"
     ]
    }
   ],
   "source": [
    "## Cross Validation\n",
    "neighbors = np.array(range(1,15))\n",
    "neighbors = neighbors*2 -1\n",
    "\n",
    "cv_score = []\n",
    "\n",
    "for k in neighbors:\n",
    "    knn = KNeighborsClassifier(n_neighbors=k, algorithm='kd_tree', metric='euclidean')\n",
    "    scores = cross_val_score(knn, wine_X_train, wine_y_train, cv=4, scoring='accuracy')\n",
    "    cv_score.append(scores.mean())\n",
    "    \n",
    "MSE = [1 - x for x in cv_score]\n",
    "op_k = neighbors[MSE.index(min(MSE))]\n",
    "print(\"Optimal number of neighbors:\", op_k)\n",
    "\n",
    "plt.plot(neighbors, MSE)\n",
    "plt.xlabel('Neighbors K')\n",
    "plt.ylabel('MSE')\n",
    "plt.show()\n",
    "\n",
    "knn = KNeighborsClassifier(n_neighbors=1, algorithm='kd_tree', metric='euclidean')\n",
    "knn.fit(wine_X_train,wine_y_train)\n",
    "wine_y_pred = knn.predict(wine_X_test)\n",
    "print(\"Confusion Matrix: \\n\", confusion_matrix(wine_y_test, wine_y_pred, labels=[3,4,5,6,7,8,9]))\n",
    "print(\"\\nAccuracy: \", accuracy_score(wine_y_test, wine_y_pred))"
   ]
  },
  {
   "cell_type": "markdown",
   "metadata": {
    "deletable": true,
    "editable": true
   },
   "source": [
    "# Elapsed Time"
   ]
  },
  {
   "cell_type": "code",
   "execution_count": 20,
   "metadata": {
    "collapsed": false,
    "deletable": true,
    "editable": true
   },
   "outputs": [
    {
     "name": "stdout",
     "output_type": "stream",
     "text": [
      "LSman: 0.0008192062377929688 \n",
      "      0.07877159118652344\n",
      "LSeuc: 0.0008454322814941406 \n",
      "      0.11391854286193848\n",
      "LScos: 0.0005743503570556641 \n",
      "      39.99492168426514\n",
      "KDman: 0.0022830963134765625 \n",
      "      0.04935932159423828\n",
      "KDeuc: 0.002869844436645508 \n",
      "      0.03769540786743164\n"
     ]
    }
   ],
   "source": [
    "print(\"LSman:\",e_time1, \"\\n     \", e_time11)\n",
    "print(\"LSeuc:\",e_time2, \"\\n     \", e_time22)\n",
    "print(\"LScos:\",e_time3, \"\\n     \", e_time33)\n",
    "print(\"KDman:\",e_time4, \"\\n     \", e_time44)\n",
    "print(\"KDeuc:\",e_time5, \"\\n     \", e_time55)"
   ]
  },
  {
   "cell_type": "code",
   "execution_count": null,
   "metadata": {
    "collapsed": true
   },
   "outputs": [],
   "source": []
  }
 ],
 "metadata": {
  "kernelspec": {
   "display_name": "Python 3",
   "language": "python",
   "name": "python3"
  },
  "language_info": {
   "codemirror_mode": {
    "name": "ipython",
    "version": 3
   },
   "file_extension": ".py",
   "mimetype": "text/x-python",
   "name": "python",
   "nbconvert_exporter": "python",
   "pygments_lexer": "ipython3",
   "version": "3.5.2"
  }
 },
 "nbformat": 4,
 "nbformat_minor": 2
}
