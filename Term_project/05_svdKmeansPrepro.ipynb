{
 "cells": [
  {
   "cell_type": "code",
   "execution_count": 1,
   "metadata": {
    "collapsed": true
   },
   "outputs": [],
   "source": [
    "import numpy as np\n",
    "from sklearn.decomposition import TruncatedSVD\n",
    "from sklearn.cluster import KMeans\n",
    "from sklearn import metrics"
   ]
  },
  {
   "cell_type": "code",
   "execution_count": 2,
   "metadata": {},
   "outputs": [
    {
     "data": {
      "text/plain": [
       "TruncatedSVD(algorithm='randomized', n_components=21, n_iter=7,\n",
       "       random_state=42, tol=0.0)"
      ]
     },
     "execution_count": 2,
     "metadata": {},
     "output_type": "execute_result"
    }
   ],
   "source": [
    "X = np.genfromtxt('./tables/svdtable.txt', delimiter='\\t')\n",
    "svd = TruncatedSVD(n_components=21, n_iter=7, random_state=42)\n",
    "svd.fit(X)"
   ]
  },
  {
   "cell_type": "code",
   "execution_count": 3,
   "metadata": {},
   "outputs": [
    {
     "data": {
      "text/plain": [
       "array([ 5.5107933 , -2.71790497, -2.68114297,  1.86296766,  0.05759208,\n",
       "       -1.97361137, -1.92632456, -0.8316969 ,  0.98801495,  0.08046625,\n",
       "       -0.72573739, -0.167905  ,  0.64687978, -0.02839384,  0.01019411,\n",
       "        0.03955321, -0.03060934, -0.53381717,  0.18704668, -0.14261981])"
      ]
     },
     "execution_count": 3,
     "metadata": {},
     "output_type": "execute_result"
    }
   ],
   "source": [
    "V = svd.components_[:20]#eliminate noise\n",
    "user_pre = np.inner(X, V)\n",
    "user_pre[0]"
   ]
  },
  {
   "cell_type": "code",
   "execution_count": 4,
   "metadata": {
    "collapsed": true
   },
   "outputs": [],
   "source": [
    "kmeans_model = KMeans(n_clusters=81, random_state=1).fit(user_pre)\n",
    "labels = kmeans_model.labels_"
   ]
  },
  {
   "cell_type": "code",
   "execution_count": 5,
   "metadata": {},
   "outputs": [
    {
     "data": {
      "text/plain": [
       "array([36, 46, 47, 46,  3, 45, 11, 16, 31,  7], dtype=int32)"
      ]
     },
     "execution_count": 5,
     "metadata": {},
     "output_type": "execute_result"
    }
   ],
   "source": [
    "labels[:10]"
   ]
  },
  {
   "cell_type": "code",
   "execution_count": 6,
   "metadata": {
    "collapsed": true
   },
   "outputs": [],
   "source": [
    "global X"
   ]
  },
  {
   "cell_type": "code",
   "execution_count": 7,
   "metadata": {},
   "outputs": [
    {
     "data": {
      "text/plain": [
       "array([ 0,  1,  2,  3,  4,  5,  6,  7,  8,  9, 10, 11, 12, 13, 14, 15, 16,\n",
       "       17, 18, 19, 20, 21, 22, 23, 24, 25, 26, 27, 28, 29, 30, 31, 32, 33,\n",
       "       34, 35, 36, 37, 38, 39, 40, 41, 42, 43, 44, 45, 46, 47, 48, 49, 50,\n",
       "       51, 52, 53, 54, 55, 56, 57, 58, 59, 60, 61, 62, 63, 64, 65, 66, 67,\n",
       "       68, 69, 70, 71, 72, 73, 74, 75, 76, 77, 78, 79, 80], dtype=int32)"
      ]
     },
     "execution_count": 7,
     "metadata": {},
     "output_type": "execute_result"
    }
   ],
   "source": [
    "np.unique(labels)"
   ]
  },
  {
   "cell_type": "code",
   "execution_count": 8,
   "metadata": {
    "collapsed": true
   },
   "outputs": [],
   "source": [
    "global labels"
   ]
  },
  {
   "cell_type": "markdown",
   "metadata": {},
   "source": [
    "## Fill Zeros\n",
    "### Fill by mean score of each clusters"
   ]
  },
  {
   "cell_type": "code",
   "execution_count": 9,
   "metadata": {
    "collapsed": true
   },
   "outputs": [],
   "source": [
    "def SelCluster(cluster_n):\n",
    "    select = np.where(labels==cluster_n)[0]\n",
    "    return select"
   ]
  },
  {
   "cell_type": "code",
   "execution_count": 10,
   "metadata": {
    "collapsed": true
   },
   "outputs": [],
   "source": [
    "select = SelCluster(36)"
   ]
  },
  {
   "cell_type": "code",
   "execution_count": 11,
   "metadata": {
    "collapsed": true
   },
   "outputs": [],
   "source": [
    "temp_X = X[select]"
   ]
  },
  {
   "cell_type": "code",
   "execution_count": 12,
   "metadata": {},
   "outputs": [
    {
     "data": {
      "text/plain": [
       "array([ 4.25      ,  4.18181818,  3.41584158, ...,  4.99610136,\n",
       "        3.73684211,  3.58823529])"
      ]
     },
     "execution_count": 12,
     "metadata": {},
     "output_type": "execute_result"
    }
   ],
   "source": [
    "temp_X[:,0]"
   ]
  },
  {
   "cell_type": "code",
   "execution_count": 13,
   "metadata": {
    "collapsed": true
   },
   "outputs": [],
   "source": [
    "notzero = np.where(temp_X[:,0]!=0)[0]"
   ]
  },
  {
   "cell_type": "code",
   "execution_count": 14,
   "metadata": {},
   "outputs": [
    {
     "data": {
      "text/plain": [
       "array([ 4.25      ,  4.18181818,  3.41584158, ...,  4.99610136,\n",
       "        3.73684211,  3.58823529])"
      ]
     },
     "execution_count": 14,
     "metadata": {},
     "output_type": "execute_result"
    }
   ],
   "source": [
    "temp_X[:,0][notzero]"
   ]
  },
  {
   "cell_type": "code",
   "execution_count": 15,
   "metadata": {},
   "outputs": [
    {
     "data": {
      "text/plain": [
       "14971.964350298636"
      ]
     },
     "execution_count": 15,
     "metadata": {},
     "output_type": "execute_result"
    }
   ],
   "source": [
    "np.sum(temp_X[:,0][notzero])"
   ]
  },
  {
   "cell_type": "code",
   "execution_count": 16,
   "metadata": {},
   "outputs": [
    {
     "data": {
      "text/plain": [
       "3807"
      ]
     },
     "execution_count": 16,
     "metadata": {},
     "output_type": "execute_result"
    }
   ],
   "source": [
    "len(temp_X[:,0][notzero])"
   ]
  },
  {
   "cell_type": "code",
   "execution_count": 17,
   "metadata": {},
   "outputs": [
    {
     "data": {
      "text/plain": [
       "3.932746086235523"
      ]
     },
     "execution_count": 17,
     "metadata": {},
     "output_type": "execute_result"
    }
   ],
   "source": [
    "np.sum(temp_X[:,0][notzero])/len(temp_X[:,0][notzero])"
   ]
  },
  {
   "cell_type": "code",
   "execution_count": 18,
   "metadata": {},
   "outputs": [
    {
     "data": {
      "text/plain": [
       "3807"
      ]
     },
     "execution_count": 18,
     "metadata": {},
     "output_type": "execute_result"
    }
   ],
   "source": [
    "len(temp_X[:,0])"
   ]
  },
  {
   "cell_type": "code",
   "execution_count": 19,
   "metadata": {},
   "outputs": [
    {
     "data": {
      "text/plain": [
       "(3807, 216)"
      ]
     },
     "execution_count": 19,
     "metadata": {},
     "output_type": "execute_result"
    }
   ],
   "source": [
    "temp_X.shape"
   ]
  },
  {
   "cell_type": "code",
   "execution_count": 20,
   "metadata": {},
   "outputs": [
    {
     "data": {
      "text/plain": [
       "array([ 0.,  0.,  0., ...,  0.,  0.,  0.])"
      ]
     },
     "execution_count": 20,
     "metadata": {},
     "output_type": "execute_result"
    }
   ],
   "source": [
    "temp_X[:,215]"
   ]
  },
  {
   "cell_type": "code",
   "execution_count": 21,
   "metadata": {
    "collapsed": true
   },
   "outputs": [],
   "source": [
    "def CalMean(temp_ind):\n",
    "    notzero = np.where(temp_ind!=0)[0]\n",
    "    if len(temp_ind[notzero])==0:\n",
    "        return 0\n",
    "    else:\n",
    "        return np.sum(temp_ind[notzero])/len(temp_ind[notzero])"
   ]
  },
  {
   "cell_type": "code",
   "execution_count": 22,
   "metadata": {
    "collapsed": true
   },
   "outputs": [],
   "source": [
    "#calculate mean score of each song of a cluster \n",
    "def MeanWOZero(select):\n",
    "    temp_X = X[select]\n",
    "    mean = list(map(lambda ind: CalMean(temp_X[:,ind]), np.arange(216))) #216 genre\n",
    "    return mean"
   ]
  },
  {
   "cell_type": "code",
   "execution_count": 23,
   "metadata": {},
   "outputs": [
    {
     "data": {
      "text/plain": [
       "array([[ 4.25      ,  0.        ,  0.        , ...,  0.        ,\n",
       "         0.        ,  0.        ],\n",
       "       [ 4.18181818,  0.        ,  0.        , ...,  0.        ,\n",
       "         0.        ,  0.        ],\n",
       "       [ 3.41584158,  0.        ,  0.        , ...,  0.        ,\n",
       "         0.        ,  0.        ],\n",
       "       ..., \n",
       "       [ 4.99610136,  0.        ,  0.        , ...,  0.        ,\n",
       "         0.        ,  0.        ],\n",
       "       [ 3.73684211,  0.        ,  0.        , ...,  0.        ,\n",
       "         0.        ,  0.        ],\n",
       "       [ 3.58823529,  0.        ,  0.        , ...,  0.        ,\n",
       "         0.        ,  0.        ]])"
      ]
     },
     "execution_count": 23,
     "metadata": {},
     "output_type": "execute_result"
    }
   ],
   "source": [
    "X[select]"
   ]
  },
  {
   "cell_type": "code",
   "execution_count": 24,
   "metadata": {},
   "outputs": [
    {
     "data": {
      "text/plain": [
       "array([ 4.25,  0.  ,  0.  ,  0.  ,  0.  ,  0.  ,  0.  ,  0.  ,  0.  ,\n",
       "        0.  ,  0.  ,  0.  ,  0.  ,  0.  ,  0.  ,  0.  ,  0.  ,  0.  ,\n",
       "        0.  ,  0.  ,  0.  ,  0.  ,  0.  ,  0.  ,  0.  ,  0.  ,  0.  ,\n",
       "        0.  ,  0.  ,  0.  ,  0.  ,  0.  ,  0.  ,  0.  ,  0.  ,  0.  ,\n",
       "        0.  ,  0.  ,  0.  ,  0.  ,  0.  ,  0.  ,  0.  ,  0.  ,  0.  ,\n",
       "        0.  ,  0.  ,  0.  ,  0.  ,  0.  ,  0.  ,  0.  ,  0.  ,  0.  ,\n",
       "        0.  ,  0.  ,  0.  ,  0.  ,  0.  ,  0.  ,  0.  ,  0.  ,  0.  ,\n",
       "        0.  ,  0.  ,  0.  ,  0.  ,  0.  ,  0.  ,  0.  ,  0.  ,  0.  ,\n",
       "        0.  ,  0.  ,  0.  ,  0.  ,  0.  ,  0.  ,  0.  ,  0.  ,  0.  ,\n",
       "        0.  ,  0.  ,  0.  ,  0.  ,  0.  ,  0.  ,  0.  ,  0.  ,  0.  ,\n",
       "        0.  ,  0.  ,  0.  ,  0.  ,  0.  ,  0.  ,  0.  ,  0.  ,  0.  ,\n",
       "        0.  ,  0.  ,  0.  ,  0.  ,  0.  ,  0.  ,  0.  ,  0.  ,  0.  ,\n",
       "        0.  ,  0.  ,  0.  ,  0.  ,  0.  ,  0.  ,  0.  ,  0.  ,  0.  ,\n",
       "        0.  ,  0.  ,  0.  ,  0.  ,  0.  ,  0.  ,  0.  ,  0.  ,  0.  ,\n",
       "        0.  ,  0.  ,  0.  ,  0.  ,  0.  ,  0.  ,  0.  ,  0.  ,  4.  ,\n",
       "        5.  ,  0.  ,  0.  ,  0.  ,  0.  ,  0.  ,  0.  ,  0.  ,  0.  ,\n",
       "        0.  ,  0.  ,  0.  ,  0.  ,  0.  ,  0.  ,  0.  ,  0.  ,  0.  ,\n",
       "        0.  ,  0.  ,  0.  ,  0.  ,  0.  ,  0.  ,  0.  ,  0.  ,  0.  ,\n",
       "        0.  ,  0.  ,  0.  ,  0.  ,  0.  ,  0.  ,  0.  ,  0.  ,  0.  ,\n",
       "        0.  ,  0.  ,  0.  ,  0.  ,  0.  ,  0.  ,  0.  ,  0.  ,  0.  ,\n",
       "        0.  ,  0.  ,  0.  ,  0.  ,  0.  ,  0.  ,  0.  ,  0.  ,  0.  ,\n",
       "        0.  ,  0.  ,  0.  ,  0.  ,  0.  ,  0.  ,  0.  ,  0.  ,  0.  ,\n",
       "        0.  ,  0.  ,  0.  ,  0.  ,  0.  ,  0.  ,  0.  ,  0.  ,  0.  ,\n",
       "        0.  ,  0.  ,  0.  ,  0.  ,  0.  ,  0.  ,  0.  ,  0.  ,  0.  ])"
      ]
     },
     "execution_count": 24,
     "metadata": {},
     "output_type": "execute_result"
    }
   ],
   "source": [
    "X[select][0]"
   ]
  },
  {
   "cell_type": "code",
   "execution_count": 25,
   "metadata": {
    "collapsed": true
   },
   "outputs": [],
   "source": [
    "def FillZeroByMean(mean, select, ind):\n",
    "    temp_sc = X[select[ind]]\n",
    "    ls = [temp_sc[x] if temp_sc[x]!=0 else mean[x] for x in range(0,len(temp_sc))]\n",
    "    return np.array(ls)"
   ]
  },
  {
   "cell_type": "code",
   "execution_count": 26,
   "metadata": {
    "collapsed": true
   },
   "outputs": [],
   "source": [
    "select = SelCluster(36)\n",
    "mean = MeanWOZero(select)"
   ]
  },
  {
   "cell_type": "code",
   "execution_count": 27,
   "metadata": {},
   "outputs": [
    {
     "data": {
      "text/plain": [
       "array([ 4.25      ,  2.90942029,  0.        ,  0.        ,  3.91071429,\n",
       "        0.        ,  0.        ,  0.        ,  0.        ,  0.        ,\n",
       "        0.        ,  0.        ,  0.        ,  0.        ,  2.54054054,\n",
       "        2.33333333,  0.        ,  0.        ,  4.30952381,  0.        ,\n",
       "        0.        ,  0.        ,  0.        ,  0.        ,  0.        ,\n",
       "        0.        ,  0.        ,  1.84027778,  0.        ,  0.        ,\n",
       "        0.        ,  0.        ,  0.        ,  0.        ,  0.        ,\n",
       "        1.41084011,  0.        ,  0.        ,  0.        ,  0.        ,\n",
       "        0.        ,  0.        ,  0.        ,  0.        ,  0.        ,\n",
       "        0.        ,  0.        ,  3.81164966,  0.        ,  0.        ,\n",
       "        4.18484848,  4.33333333,  0.        ,  0.        ,  1.2359127 ,\n",
       "        4.        ,  0.        ,  0.        ,  0.        ,  0.        ,\n",
       "        0.        ,  0.        ,  0.        ,  0.        ,  0.        ,\n",
       "        3.52571318,  0.        ,  1.        ,  0.        ,  2.76923077,\n",
       "        3.84615385,  3.84197192,  0.        ,  0.        ,  3.25873016,\n",
       "        0.        ,  0.        ,  0.        ,  0.        ,  0.        ,\n",
       "        0.        ,  0.        ,  0.        ,  0.        ,  4.18181818,\n",
       "        0.        ,  0.        ,  0.        ,  3.52730938,  0.        ,\n",
       "        0.        ,  0.        ,  0.        ,  0.        ,  0.        ,\n",
       "        0.        ,  0.        ,  0.        ,  0.        ,  0.        ,\n",
       "        0.        ,  0.        ,  0.        ,  0.        ,  3.85714286,\n",
       "        0.        ,  1.28562265,  1.82094595,  0.        ,  3.        ,\n",
       "        1.        ,  0.        ,  0.        ,  4.        ,  1.56305832,\n",
       "        3.41666667,  0.        ,  0.        ,  1.25      ,  0.        ,\n",
       "        0.        ,  0.        ,  0.        ,  3.20153061,  0.        ,\n",
       "        0.        ,  0.        ,  0.        ,  1.        ,  0.        ,\n",
       "        0.        ,  0.        ,  0.        ,  0.        ,  4.        ,\n",
       "        5.        ,  0.        ,  0.        ,  0.        ,  0.        ,\n",
       "        0.        ,  0.        ,  0.        ,  0.        ,  4.34920635,\n",
       "        0.        ,  0.        ,  0.        ,  3.40251048,  3.61468465,\n",
       "        0.        ,  3.62068966,  3.8733503 ,  0.        ,  0.        ,\n",
       "        0.        ,  0.        ,  0.        ,  0.        ,  2.75070028,\n",
       "        0.        ,  3.08513131,  0.        ,  0.        ,  0.        ,\n",
       "        0.        ,  2.40509259,  0.        ,  3.77037037,  0.        ,\n",
       "        0.        ,  0.        ,  0.        ,  0.        ,  0.        ,\n",
       "        0.        ,  3.66666667,  2.        ,  0.        ,  0.        ,\n",
       "        0.        ,  0.        ,  0.        ,  0.        ,  0.        ,\n",
       "        0.        ,  0.        ,  3.03921569,  5.        ,  0.        ,\n",
       "        0.        ,  0.        ,  2.58333333,  0.        ,  0.        ,\n",
       "        0.        ,  0.        ,  0.        ,  0.        ,  0.        ,\n",
       "        0.        ,  0.        ,  0.        ,  0.        ,  0.        ,\n",
       "        0.        ,  1.43762505,  0.        ,  0.        ,  0.        ,\n",
       "        0.        ,  3.10416667,  0.        ,  0.        ,  3.5       ,  3.        ])"
      ]
     },
     "execution_count": 27,
     "metadata": {},
     "output_type": "execute_result"
    }
   ],
   "source": [
    "FillZeroByMean(mean, select, 0)"
   ]
  },
  {
   "cell_type": "code",
   "execution_count": 28,
   "metadata": {},
   "outputs": [
    {
     "data": {
      "text/plain": [
       "(3807, 216)"
      ]
     },
     "execution_count": 28,
     "metadata": {},
     "output_type": "execute_result"
    }
   ],
   "source": [
    "X[select].shape"
   ]
  },
  {
   "cell_type": "code",
   "execution_count": 29,
   "metadata": {},
   "outputs": [
    {
     "data": {
      "text/plain": [
       "3807"
      ]
     },
     "execution_count": 29,
     "metadata": {},
     "output_type": "execute_result"
    }
   ],
   "source": [
    "X[select].shape[0]"
   ]
  },
  {
   "cell_type": "code",
   "execution_count": 30,
   "metadata": {
    "collapsed": true
   },
   "outputs": [],
   "source": [
    "#X[select] = list(map(lambda ind: FillZeroByMean(mean, select, ind), np.arange(X[select].shape[0])))"
   ]
  },
  {
   "cell_type": "code",
   "execution_count": 31,
   "metadata": {},
   "outputs": [
    {
     "data": {
      "text/plain": [
       "3807"
      ]
     },
     "execution_count": 31,
     "metadata": {},
     "output_type": "execute_result"
    }
   ],
   "source": [
    "len(select)"
   ]
  },
  {
   "cell_type": "code",
   "execution_count": 32,
   "metadata": {},
   "outputs": [
    {
     "name": "stdout",
     "output_type": "stream",
     "text": [
      "Cluster:  0\n",
      "Cluster:  1\n",
      "Cluster:  2\n",
      "Cluster:  3\n",
      "Cluster:  4\n",
      "Cluster:  5\n",
      "Cluster:  6\n",
      "Cluster:  7\n",
      "Cluster:  8\n",
      "Cluster:  9\n",
      "Cluster:  10\n",
      "Cluster:  11\n",
      "Cluster:  12\n",
      "Cluster:  13\n",
      "Cluster:  14\n",
      "Cluster:  15\n",
      "Cluster:  16\n",
      "Cluster:  17\n",
      "Cluster:  18\n",
      "Cluster:  19\n",
      "Cluster:  20\n",
      "Cluster:  21\n",
      "Cluster:  22\n",
      "Cluster:  23\n",
      "Cluster:  24\n",
      "Cluster:  25\n",
      "Cluster:  26\n",
      "Cluster:  27\n",
      "Cluster:  28\n",
      "Cluster:  29\n",
      "Cluster:  30\n",
      "Cluster:  31\n",
      "Cluster:  32\n",
      "Cluster:  33\n",
      "Cluster:  34\n",
      "Cluster:  35\n",
      "Cluster:  36\n",
      "Cluster:  37\n",
      "Cluster:  38\n",
      "Cluster:  39\n",
      "Cluster:  40\n",
      "Cluster:  41\n",
      "Cluster:  42\n",
      "Cluster:  43\n",
      "Cluster:  44\n",
      "Cluster:  45\n",
      "Cluster:  46\n",
      "Cluster:  47\n",
      "Cluster:  48\n",
      "Cluster:  49\n",
      "Cluster:  50\n",
      "Cluster:  51\n",
      "Cluster:  52\n",
      "Cluster:  53\n",
      "Cluster:  54\n",
      "Cluster:  55\n",
      "Cluster:  56\n",
      "Cluster:  57\n",
      "Cluster:  58\n",
      "Cluster:  59\n",
      "Cluster:  60\n",
      "Cluster:  61\n",
      "Cluster:  62\n",
      "Cluster:  63\n",
      "Cluster:  64\n",
      "Cluster:  65\n",
      "Cluster:  66\n",
      "Cluster:  67\n",
      "Cluster:  68\n",
      "Cluster:  69\n",
      "Cluster:  70\n",
      "Cluster:  71\n",
      "Cluster:  72\n",
      "Cluster:  73\n",
      "Cluster:  74\n",
      "Cluster:  75\n",
      "Cluster:  76\n",
      "Cluster:  77\n",
      "Cluster:  78\n",
      "Cluster:  79\n",
      "Cluster:  80\n"
     ]
    }
   ],
   "source": [
    "#fill zeros by average of a cluster\n",
    "for i in range(0,81):\n",
    "    select = SelCluster(i)\n",
    "    mean = MeanWOZero(select)\n",
    "    #X[select] = list(map(FillZeroByMean(mean, select, ind)))\n",
    "    for j in range(0,len(select)):\n",
    "        X[select[j]] = FillZeroByMean(mean, select, j)\n",
    "    print(\"Cluster: \", i)\n",
    "    \n",
    "#FillZeroByUnknown()"
   ]
  },
  {
   "cell_type": "code",
   "execution_count": 33,
   "metadata": {},
   "outputs": [
    {
     "data": {
      "text/plain": [
       "array([ 4.25      ,  2.90942029,  0.        ,  0.        ,  3.91071429,\n",
       "        0.        ,  0.        ,  0.        ,  0.        ,  0.        ,\n",
       "        0.        ,  0.        ,  0.        ,  0.        ,  2.54054054,\n",
       "        2.33333333,  0.        ,  0.        ,  4.30952381,  0.        ,\n",
       "        0.        ,  0.        ,  0.        ,  0.        ,  0.        ,\n",
       "        0.        ,  0.        ,  1.84027778,  0.        ,  0.        ,\n",
       "        0.        ,  0.        ,  0.        ,  0.        ,  0.        ,\n",
       "        1.41084011,  0.        ,  0.        ,  0.        ,  0.        ,\n",
       "        0.        ,  0.        ,  0.        ,  0.        ,  0.        ,\n",
       "        0.        ,  0.        ,  3.81164966,  0.        ,  0.        ,\n",
       "        4.18484848,  4.33333333,  0.        ,  0.        ,  1.2359127 ,\n",
       "        4.        ,  0.        ,  0.        ,  0.        ,  0.        ,\n",
       "        0.        ,  0.        ,  0.        ,  0.        ,  0.        ,\n",
       "        3.52571318,  0.        ,  1.        ,  0.        ,  2.76923077,\n",
       "        3.84615385,  3.84197192,  0.        ,  0.        ,  3.25873016,\n",
       "        0.        ,  0.        ,  0.        ,  0.        ,  0.        ,\n",
       "        0.        ,  0.        ,  0.        ,  0.        ,  4.18181818,\n",
       "        0.        ,  0.        ,  0.        ,  3.52730938,  0.        ,\n",
       "        0.        ,  0.        ,  0.        ,  0.        ,  0.        ,\n",
       "        0.        ,  0.        ,  0.        ,  0.        ,  0.        ,\n",
       "        0.        ,  0.        ,  0.        ,  0.        ,  3.85714286,\n",
       "        0.        ,  1.28562265,  1.82094595,  0.        ,  3.        ,\n",
       "        1.        ,  0.        ,  0.        ,  4.        ,  1.56305832,\n",
       "        3.41666667,  0.        ,  0.        ,  1.25      ,  0.        ,\n",
       "        0.        ,  0.        ,  0.        ,  3.20153061,  0.        ,\n",
       "        0.        ,  0.        ,  0.        ,  1.        ,  0.        ,\n",
       "        0.        ,  0.        ,  0.        ,  0.        ,  4.        ,\n",
       "        5.        ,  0.        ,  0.        ,  0.        ,  0.        ,\n",
       "        0.        ,  0.        ,  0.        ,  0.        ,  4.34920635,\n",
       "        0.        ,  0.        ,  0.        ,  3.40251048,  3.61468465,\n",
       "        0.        ,  3.62068966,  3.8733503 ,  0.        ,  0.        ,\n",
       "        0.        ,  0.        ,  0.        ,  0.        ,  2.75070028,\n",
       "        0.        ,  3.08513131,  0.        ,  0.        ,  0.        ,\n",
       "        0.        ,  2.40509259,  0.        ,  3.77037037,  0.        ,\n",
       "        0.        ,  0.        ,  0.        ,  0.        ,  0.        ,\n",
       "        0.        ,  3.66666667,  2.        ,  0.        ,  0.        ,\n",
       "        0.        ,  0.        ,  0.        ,  0.        ,  0.        ,\n",
       "        0.        ,  0.        ,  3.03921569,  5.        ,  0.        ,\n",
       "        0.        ,  0.        ,  2.58333333,  0.        ,  0.        ,\n",
       "        0.        ,  0.        ,  0.        ,  0.        ,  0.        ,\n",
       "        0.        ,  0.        ,  0.        ,  0.        ,  0.        ,\n",
       "        0.        ,  1.43762505,  0.        ,  0.        ,  0.        ,\n",
       "        0.        ,  3.10416667,  0.        ,  0.        ,  3.5       ,  3.        ])"
      ]
     },
     "execution_count": 33,
     "metadata": {},
     "output_type": "execute_result"
    }
   ],
   "source": [
    "X[0]"
   ]
  },
  {
   "cell_type": "code",
   "execution_count": 34,
   "metadata": {
    "collapsed": true
   },
   "outputs": [],
   "source": [
    "#save\n",
    "np.savetxt(\"./tables/svdKmeansMean1.txt\", X, delimiter=\"\\t\")"
   ]
  },
  {
   "cell_type": "markdown",
   "metadata": {},
   "source": [
    "### Fill zeros by unknown score"
   ]
  },
  {
   "cell_type": "code",
   "execution_count": 37,
   "metadata": {
    "collapsed": true
   },
   "outputs": [],
   "source": [
    "#fill zeros by unknown\n",
    "def FillZeroByUnknown(row):\n",
    "    unknown = row[0]#genre unknown is the first element of an row\n",
    "    ls = [row[x] if row[x]!=0 else unknown for x in range(0,len(row))]\n",
    "    return np.array(ls)"
   ]
  },
  {
   "cell_type": "code",
   "execution_count": 38,
   "metadata": {},
   "outputs": [
    {
     "data": {
      "text/plain": [
       "array([ 4.25      ,  2.90942029,  4.25      ,  4.25      ,  3.91071429,\n",
       "        4.25      ,  4.25      ,  4.25      ,  4.25      ,  4.25      ,\n",
       "        4.25      ,  4.25      ,  4.25      ,  4.25      ,  2.54054054,\n",
       "        2.33333333,  4.25      ,  4.25      ,  4.30952381,  4.25      ,\n",
       "        4.25      ,  4.25      ,  4.25      ,  4.25      ,  4.25      ,\n",
       "        4.25      ,  4.25      ,  1.84027778,  4.25      ,  4.25      ,\n",
       "        4.25      ,  4.25      ,  4.25      ,  4.25      ,  4.25      ,\n",
       "        1.41084011,  4.25      ,  4.25      ,  4.25      ,  4.25      ,\n",
       "        4.25      ,  4.25      ,  4.25      ,  4.25      ,  4.25      ,\n",
       "        4.25      ,  4.25      ,  3.81164966,  4.25      ,  4.25      ,\n",
       "        4.18484848,  4.33333333,  4.25      ,  4.25      ,  1.2359127 ,\n",
       "        4.        ,  4.25      ,  4.25      ,  4.25      ,  4.25      ,\n",
       "        4.25      ,  4.25      ,  4.25      ,  4.25      ,  4.25      ,\n",
       "        3.52571318,  4.25      ,  1.        ,  4.25      ,  2.76923077,\n",
       "        3.84615385,  3.84197192,  4.25      ,  4.25      ,  3.25873016,\n",
       "        4.25      ,  4.25      ,  4.25      ,  4.25      ,  4.25      ,\n",
       "        4.25      ,  4.25      ,  4.25      ,  4.25      ,  4.18181818,\n",
       "        4.25      ,  4.25      ,  4.25      ,  3.52730938,  4.25      ,\n",
       "        4.25      ,  4.25      ,  4.25      ,  4.25      ,  4.25      ,\n",
       "        4.25      ,  4.25      ,  4.25      ,  4.25      ,  4.25      ,\n",
       "        4.25      ,  4.25      ,  4.25      ,  4.25      ,  3.85714286,\n",
       "        4.25      ,  1.28562265,  1.82094595,  4.25      ,  3.        ,\n",
       "        1.        ,  4.25      ,  4.25      ,  4.        ,  1.56305832,\n",
       "        3.41666667,  4.25      ,  4.25      ,  1.25      ,  4.25      ,\n",
       "        4.25      ,  4.25      ,  4.25      ,  3.20153061,  4.25      ,\n",
       "        4.25      ,  4.25      ,  4.25      ,  1.        ,  4.25      ,\n",
       "        4.25      ,  4.25      ,  4.25      ,  4.25      ,  4.        ,\n",
       "        5.        ,  4.25      ,  4.25      ,  4.25      ,  4.25      ,\n",
       "        4.25      ,  4.25      ,  4.25      ,  4.25      ,  4.34920635,\n",
       "        4.25      ,  4.25      ,  4.25      ,  3.40251048,  3.61468465,\n",
       "        4.25      ,  3.62068966,  3.8733503 ,  4.25      ,  4.25      ,\n",
       "        4.25      ,  4.25      ,  4.25      ,  4.25      ,  2.75070028,\n",
       "        4.25      ,  3.08513131,  4.25      ,  4.25      ,  4.25      ,\n",
       "        4.25      ,  2.40509259,  4.25      ,  3.77037037,  4.25      ,\n",
       "        4.25      ,  4.25      ,  4.25      ,  4.25      ,  4.25      ,\n",
       "        4.25      ,  3.66666667,  2.        ,  4.25      ,  4.25      ,\n",
       "        4.25      ,  4.25      ,  4.25      ,  4.25      ,  4.25      ,\n",
       "        4.25      ,  4.25      ,  3.03921569,  5.        ,  4.25      ,\n",
       "        4.25      ,  4.25      ,  2.58333333,  4.25      ,  4.25      ,\n",
       "        4.25      ,  4.25      ,  4.25      ,  4.25      ,  4.25      ,\n",
       "        4.25      ,  4.25      ,  4.25      ,  4.25      ,  4.25      ,\n",
       "        4.25      ,  1.43762505,  4.25      ,  4.25      ,  4.25      ,\n",
       "        4.25      ,  3.10416667,  4.25      ,  4.25      ,  3.5       ,  3.        ])"
      ]
     },
     "execution_count": 38,
     "metadata": {},
     "output_type": "execute_result"
    }
   ],
   "source": [
    "FillZeroByUnknown(X[0])"
   ]
  },
  {
   "cell_type": "code",
   "execution_count": 40,
   "metadata": {},
   "outputs": [],
   "source": [
    "Y = list(map(lambda ind: FillZeroByUnknown(X[ind]), np.arange(len(X))))"
   ]
  },
  {
   "cell_type": "code",
   "execution_count": 41,
   "metadata": {},
   "outputs": [
    {
     "data": {
      "text/plain": [
       "array([ 4.25      ,  2.90942029,  4.25      ,  4.25      ,  3.91071429,\n",
       "        4.25      ,  4.25      ,  4.25      ,  4.25      ,  4.25      ,\n",
       "        4.25      ,  4.25      ,  4.25      ,  4.25      ,  2.54054054,\n",
       "        2.33333333,  4.25      ,  4.25      ,  4.30952381,  4.25      ,\n",
       "        4.25      ,  4.25      ,  4.25      ,  4.25      ,  4.25      ,\n",
       "        4.25      ,  4.25      ,  1.84027778,  4.25      ,  4.25      ,\n",
       "        4.25      ,  4.25      ,  4.25      ,  4.25      ,  4.25      ,\n",
       "        1.41084011,  4.25      ,  4.25      ,  4.25      ,  4.25      ,\n",
       "        4.25      ,  4.25      ,  4.25      ,  4.25      ,  4.25      ,\n",
       "        4.25      ,  4.25      ,  3.81164966,  4.25      ,  4.25      ,\n",
       "        4.18484848,  4.33333333,  4.25      ,  4.25      ,  1.2359127 ,\n",
       "        4.        ,  4.25      ,  4.25      ,  4.25      ,  4.25      ,\n",
       "        4.25      ,  4.25      ,  4.25      ,  4.25      ,  4.25      ,\n",
       "        3.52571318,  4.25      ,  1.        ,  4.25      ,  2.76923077,\n",
       "        3.84615385,  3.84197192,  4.25      ,  4.25      ,  3.25873016,\n",
       "        4.25      ,  4.25      ,  4.25      ,  4.25      ,  4.25      ,\n",
       "        4.25      ,  4.25      ,  4.25      ,  4.25      ,  4.18181818,\n",
       "        4.25      ,  4.25      ,  4.25      ,  3.52730938,  4.25      ,\n",
       "        4.25      ,  4.25      ,  4.25      ,  4.25      ,  4.25      ,\n",
       "        4.25      ,  4.25      ,  4.25      ,  4.25      ,  4.25      ,\n",
       "        4.25      ,  4.25      ,  4.25      ,  4.25      ,  3.85714286,\n",
       "        4.25      ,  1.28562265,  1.82094595,  4.25      ,  3.        ,\n",
       "        1.        ,  4.25      ,  4.25      ,  4.        ,  1.56305832,\n",
       "        3.41666667,  4.25      ,  4.25      ,  1.25      ,  4.25      ,\n",
       "        4.25      ,  4.25      ,  4.25      ,  3.20153061,  4.25      ,\n",
       "        4.25      ,  4.25      ,  4.25      ,  1.        ,  4.25      ,\n",
       "        4.25      ,  4.25      ,  4.25      ,  4.25      ,  4.        ,\n",
       "        5.        ,  4.25      ,  4.25      ,  4.25      ,  4.25      ,\n",
       "        4.25      ,  4.25      ,  4.25      ,  4.25      ,  4.34920635,\n",
       "        4.25      ,  4.25      ,  4.25      ,  3.40251048,  3.61468465,\n",
       "        4.25      ,  3.62068966,  3.8733503 ,  4.25      ,  4.25      ,\n",
       "        4.25      ,  4.25      ,  4.25      ,  4.25      ,  2.75070028,\n",
       "        4.25      ,  3.08513131,  4.25      ,  4.25      ,  4.25      ,\n",
       "        4.25      ,  2.40509259,  4.25      ,  3.77037037,  4.25      ,\n",
       "        4.25      ,  4.25      ,  4.25      ,  4.25      ,  4.25      ,\n",
       "        4.25      ,  3.66666667,  2.        ,  4.25      ,  4.25      ,\n",
       "        4.25      ,  4.25      ,  4.25      ,  4.25      ,  4.25      ,\n",
       "        4.25      ,  4.25      ,  3.03921569,  5.        ,  4.25      ,\n",
       "        4.25      ,  4.25      ,  2.58333333,  4.25      ,  4.25      ,\n",
       "        4.25      ,  4.25      ,  4.25      ,  4.25      ,  4.25      ,\n",
       "        4.25      ,  4.25      ,  4.25      ,  4.25      ,  4.25      ,\n",
       "        4.25      ,  1.43762505,  4.25      ,  4.25      ,  4.25      ,\n",
       "        4.25      ,  3.10416667,  4.25      ,  4.25      ,  3.5       ,  3.        ])"
      ]
     },
     "execution_count": 41,
     "metadata": {},
     "output_type": "execute_result"
    }
   ],
   "source": [
    "Y[0]"
   ]
  },
  {
   "cell_type": "code",
   "execution_count": 43,
   "metadata": {
    "collapsed": true
   },
   "outputs": [],
   "source": [
    "np.savetxt(\"./tables/svdKmeansMean2.txt\", Y, delimiter=\"\\t\")"
   ]
  },
  {
   "cell_type": "code",
   "execution_count": 44,
   "metadata": {},
   "outputs": [
    {
     "data": {
      "text/plain": [
       "array([ 4.25      ,  2.90942029,  0.        ,  0.        ,  3.91071429,\n",
       "        0.        ,  0.        ,  0.        ,  0.        ,  0.        ,\n",
       "        0.        ,  0.        ,  0.        ,  0.        ,  2.54054054,\n",
       "        2.33333333,  0.        ,  0.        ,  4.30952381,  0.        ,\n",
       "        0.        ,  0.        ,  0.        ,  0.        ,  0.        ,\n",
       "        0.        ,  0.        ,  1.84027778,  0.        ,  0.        ,\n",
       "        0.        ,  0.        ,  0.        ,  0.        ,  0.        ,\n",
       "        1.41084011,  0.        ,  0.        ,  0.        ,  0.        ,\n",
       "        0.        ,  0.        ,  0.        ,  0.        ,  0.        ,\n",
       "        0.        ,  0.        ,  3.81164966,  0.        ,  0.        ,\n",
       "        4.18484848,  4.33333333,  0.        ,  0.        ,  1.2359127 ,\n",
       "        4.        ,  0.        ,  0.        ,  0.        ,  0.        ,\n",
       "        0.        ,  0.        ,  0.        ,  0.        ,  0.        ,\n",
       "        3.52571318,  0.        ,  1.        ,  0.        ,  2.76923077,\n",
       "        3.84615385,  3.84197192,  0.        ,  0.        ,  3.25873016,\n",
       "        0.        ,  0.        ,  0.        ,  0.        ,  0.        ,\n",
       "        0.        ,  0.        ,  0.        ,  0.        ,  4.18181818,\n",
       "        0.        ,  0.        ,  0.        ,  3.52730938,  0.        ,\n",
       "        0.        ,  0.        ,  0.        ,  0.        ,  0.        ,\n",
       "        0.        ,  0.        ,  0.        ,  0.        ,  0.        ,\n",
       "        0.        ,  0.        ,  0.        ,  0.        ,  3.85714286,\n",
       "        0.        ,  1.28562265,  1.82094595,  0.        ,  3.        ,\n",
       "        1.        ,  0.        ,  0.        ,  4.        ,  1.56305832,\n",
       "        3.41666667,  0.        ,  0.        ,  1.25      ,  0.        ,\n",
       "        0.        ,  0.        ,  0.        ,  3.20153061,  0.        ,\n",
       "        0.        ,  0.        ,  0.        ,  1.        ,  0.        ,\n",
       "        0.        ,  0.        ,  0.        ,  0.        ,  4.        ,\n",
       "        5.        ,  0.        ,  0.        ,  0.        ,  0.        ,\n",
       "        0.        ,  0.        ,  0.        ,  0.        ,  4.34920635,\n",
       "        0.        ,  0.        ,  0.        ,  3.40251048,  3.61468465,\n",
       "        0.        ,  3.62068966,  3.8733503 ,  0.        ,  0.        ,\n",
       "        0.        ,  0.        ,  0.        ,  0.        ,  2.75070028,\n",
       "        0.        ,  3.08513131,  0.        ,  0.        ,  0.        ,\n",
       "        0.        ,  2.40509259,  0.        ,  3.77037037,  0.        ,\n",
       "        0.        ,  0.        ,  0.        ,  0.        ,  0.        ,\n",
       "        0.        ,  3.66666667,  2.        ,  0.        ,  0.        ,\n",
       "        0.        ,  0.        ,  0.        ,  0.        ,  0.        ,\n",
       "        0.        ,  0.        ,  3.03921569,  5.        ,  0.        ,\n",
       "        0.        ,  0.        ,  2.58333333,  0.        ,  0.        ,\n",
       "        0.        ,  0.        ,  0.        ,  0.        ,  0.        ,\n",
       "        0.        ,  0.        ,  0.        ,  0.        ,  0.        ,\n",
       "        0.        ,  1.43762505,  0.        ,  0.        ,  0.        ,\n",
       "        0.        ,  3.10416667,  0.        ,  0.        ,  3.5       ,  3.        ])"
      ]
     },
     "execution_count": 44,
     "metadata": {},
     "output_type": "execute_result"
    }
   ],
   "source": [
    "Z = np.genfromtxt('./tables/svdKmeansMean1.txt', delimiter='\\t')\n",
    "Z[0]"
   ]
  },
  {
   "cell_type": "code",
   "execution_count": 45,
   "metadata": {},
   "outputs": [
    {
     "data": {
      "text/plain": [
       "array([ 4.25      ,  2.90942029,  4.25      ,  4.25      ,  3.91071429,\n",
       "        4.25      ,  4.25      ,  4.25      ,  4.25      ,  4.25      ,\n",
       "        4.25      ,  4.25      ,  4.25      ,  4.25      ,  2.54054054,\n",
       "        2.33333333,  4.25      ,  4.25      ,  4.30952381,  4.25      ,\n",
       "        4.25      ,  4.25      ,  4.25      ,  4.25      ,  4.25      ,\n",
       "        4.25      ,  4.25      ,  1.84027778,  4.25      ,  4.25      ,\n",
       "        4.25      ,  4.25      ,  4.25      ,  4.25      ,  4.25      ,\n",
       "        1.41084011,  4.25      ,  4.25      ,  4.25      ,  4.25      ,\n",
       "        4.25      ,  4.25      ,  4.25      ,  4.25      ,  4.25      ,\n",
       "        4.25      ,  4.25      ,  3.81164966,  4.25      ,  4.25      ,\n",
       "        4.18484848,  4.33333333,  4.25      ,  4.25      ,  1.2359127 ,\n",
       "        4.        ,  4.25      ,  4.25      ,  4.25      ,  4.25      ,\n",
       "        4.25      ,  4.25      ,  4.25      ,  4.25      ,  4.25      ,\n",
       "        3.52571318,  4.25      ,  1.        ,  4.25      ,  2.76923077,\n",
       "        3.84615385,  3.84197192,  4.25      ,  4.25      ,  3.25873016,\n",
       "        4.25      ,  4.25      ,  4.25      ,  4.25      ,  4.25      ,\n",
       "        4.25      ,  4.25      ,  4.25      ,  4.25      ,  4.18181818,\n",
       "        4.25      ,  4.25      ,  4.25      ,  3.52730938,  4.25      ,\n",
       "        4.25      ,  4.25      ,  4.25      ,  4.25      ,  4.25      ,\n",
       "        4.25      ,  4.25      ,  4.25      ,  4.25      ,  4.25      ,\n",
       "        4.25      ,  4.25      ,  4.25      ,  4.25      ,  3.85714286,\n",
       "        4.25      ,  1.28562265,  1.82094595,  4.25      ,  3.        ,\n",
       "        1.        ,  4.25      ,  4.25      ,  4.        ,  1.56305832,\n",
       "        3.41666667,  4.25      ,  4.25      ,  1.25      ,  4.25      ,\n",
       "        4.25      ,  4.25      ,  4.25      ,  3.20153061,  4.25      ,\n",
       "        4.25      ,  4.25      ,  4.25      ,  1.        ,  4.25      ,\n",
       "        4.25      ,  4.25      ,  4.25      ,  4.25      ,  4.        ,\n",
       "        5.        ,  4.25      ,  4.25      ,  4.25      ,  4.25      ,\n",
       "        4.25      ,  4.25      ,  4.25      ,  4.25      ,  4.34920635,\n",
       "        4.25      ,  4.25      ,  4.25      ,  3.40251048,  3.61468465,\n",
       "        4.25      ,  3.62068966,  3.8733503 ,  4.25      ,  4.25      ,\n",
       "        4.25      ,  4.25      ,  4.25      ,  4.25      ,  2.75070028,\n",
       "        4.25      ,  3.08513131,  4.25      ,  4.25      ,  4.25      ,\n",
       "        4.25      ,  2.40509259,  4.25      ,  3.77037037,  4.25      ,\n",
       "        4.25      ,  4.25      ,  4.25      ,  4.25      ,  4.25      ,\n",
       "        4.25      ,  3.66666667,  2.        ,  4.25      ,  4.25      ,\n",
       "        4.25      ,  4.25      ,  4.25      ,  4.25      ,  4.25      ,\n",
       "        4.25      ,  4.25      ,  3.03921569,  5.        ,  4.25      ,\n",
       "        4.25      ,  4.25      ,  2.58333333,  4.25      ,  4.25      ,\n",
       "        4.25      ,  4.25      ,  4.25      ,  4.25      ,  4.25      ,\n",
       "        4.25      ,  4.25      ,  4.25      ,  4.25      ,  4.25      ,\n",
       "        4.25      ,  1.43762505,  4.25      ,  4.25      ,  4.25      ,\n",
       "        4.25      ,  3.10416667,  4.25      ,  4.25      ,  3.5       ,  3.        ])"
      ]
     },
     "execution_count": 45,
     "metadata": {},
     "output_type": "execute_result"
    }
   ],
   "source": [
    "Z = np.genfromtxt('./tables/svdKmeansMean2.txt', delimiter='\\t')\n",
    "Z[0]"
   ]
  },
  {
   "cell_type": "code",
   "execution_count": null,
   "metadata": {
    "collapsed": true
   },
   "outputs": [],
   "source": []
  }
 ],
 "metadata": {
  "kernelspec": {
   "display_name": "Python 3",
   "language": "python",
   "name": "python3"
  },
  "language_info": {
   "codemirror_mode": {
    "name": "ipython",
    "version": 3
   },
   "file_extension": ".py",
   "mimetype": "text/x-python",
   "name": "python",
   "nbconvert_exporter": "python",
   "pygments_lexer": "ipython3",
   "version": "3.5.2"
  }
 },
 "nbformat": 4,
 "nbformat_minor": 2
}
