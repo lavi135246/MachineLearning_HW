{
 "cells": [
  {
   "cell_type": "code",
   "execution_count": 1,
   "metadata": {
    "collapsed": true,
    "deletable": true,
    "editable": true
   },
   "outputs": [],
   "source": [
    "## import lib ##\n",
    "import numpy as np\n",
    "import pandas as pd\n",
    "import math\n",
    "\n",
    "import matplotlib.pyplot as plt\n",
    "from matplotlib import style\n",
    "style.use(\"ggplot\")\n",
    "import time\n",
    "\n",
    "from sklearn.neighbors import KDTree\n",
    "from sklearn.neighbors import KNeighborsClassifier\n",
    "from sklearn.metrics import confusion_matrix, accuracy_score\n",
    "from sklearn.model_selection import cross_val_score\n",
    "\n",
    "from scipy import spatial"
   ]
  },
  {
   "cell_type": "code",
   "execution_count": 2,
   "metadata": {
    "collapsed": false,
    "deletable": true,
    "editable": true
   },
   "outputs": [
    {
     "name": "stdout",
     "output_type": "stream",
     "text": [
      "Length: 4898\n"
     ]
    },
    {
     "data": {
      "text/html": [
       "<div>\n",
       "<table border=\"1\" class=\"dataframe\">\n",
       "  <thead>\n",
       "    <tr style=\"text-align: right;\">\n",
       "      <th></th>\n",
       "      <th>fixed acidity</th>\n",
       "      <th>volatile acidity</th>\n",
       "      <th>citric acid</th>\n",
       "      <th>residual sugar</th>\n",
       "      <th>chlorides</th>\n",
       "      <th>free sulfur dioxide</th>\n",
       "      <th>total sulfur dioxide</th>\n",
       "      <th>density</th>\n",
       "      <th>pH</th>\n",
       "      <th>sulphates</th>\n",
       "      <th>alcohol</th>\n",
       "      <th>quality</th>\n",
       "    </tr>\n",
       "  </thead>\n",
       "  <tbody>\n",
       "    <tr>\n",
       "      <th>0</th>\n",
       "      <td>7.0</td>\n",
       "      <td>0.27</td>\n",
       "      <td>0.36</td>\n",
       "      <td>20.7</td>\n",
       "      <td>0.045</td>\n",
       "      <td>45.0</td>\n",
       "      <td>170.0</td>\n",
       "      <td>1.0010</td>\n",
       "      <td>3.00</td>\n",
       "      <td>0.45</td>\n",
       "      <td>8.8</td>\n",
       "      <td>6</td>\n",
       "    </tr>\n",
       "    <tr>\n",
       "      <th>1</th>\n",
       "      <td>6.3</td>\n",
       "      <td>0.30</td>\n",
       "      <td>0.34</td>\n",
       "      <td>1.6</td>\n",
       "      <td>0.049</td>\n",
       "      <td>14.0</td>\n",
       "      <td>132.0</td>\n",
       "      <td>0.9940</td>\n",
       "      <td>3.30</td>\n",
       "      <td>0.49</td>\n",
       "      <td>9.5</td>\n",
       "      <td>6</td>\n",
       "    </tr>\n",
       "    <tr>\n",
       "      <th>2</th>\n",
       "      <td>8.1</td>\n",
       "      <td>0.28</td>\n",
       "      <td>0.40</td>\n",
       "      <td>6.9</td>\n",
       "      <td>0.050</td>\n",
       "      <td>30.0</td>\n",
       "      <td>97.0</td>\n",
       "      <td>0.9951</td>\n",
       "      <td>3.26</td>\n",
       "      <td>0.44</td>\n",
       "      <td>10.1</td>\n",
       "      <td>6</td>\n",
       "    </tr>\n",
       "    <tr>\n",
       "      <th>3</th>\n",
       "      <td>7.2</td>\n",
       "      <td>0.23</td>\n",
       "      <td>0.32</td>\n",
       "      <td>8.5</td>\n",
       "      <td>0.058</td>\n",
       "      <td>47.0</td>\n",
       "      <td>186.0</td>\n",
       "      <td>0.9956</td>\n",
       "      <td>3.19</td>\n",
       "      <td>0.40</td>\n",
       "      <td>9.9</td>\n",
       "      <td>6</td>\n",
       "    </tr>\n",
       "    <tr>\n",
       "      <th>4</th>\n",
       "      <td>7.2</td>\n",
       "      <td>0.23</td>\n",
       "      <td>0.32</td>\n",
       "      <td>8.5</td>\n",
       "      <td>0.058</td>\n",
       "      <td>47.0</td>\n",
       "      <td>186.0</td>\n",
       "      <td>0.9956</td>\n",
       "      <td>3.19</td>\n",
       "      <td>0.40</td>\n",
       "      <td>9.9</td>\n",
       "      <td>6</td>\n",
       "    </tr>\n",
       "  </tbody>\n",
       "</table>\n",
       "</div>"
      ],
      "text/plain": [
       "   fixed acidity  volatile acidity  citric acid  residual sugar  chlorides  \\\n",
       "0            7.0              0.27         0.36            20.7      0.045   \n",
       "1            6.3              0.30         0.34             1.6      0.049   \n",
       "2            8.1              0.28         0.40             6.9      0.050   \n",
       "3            7.2              0.23         0.32             8.5      0.058   \n",
       "4            7.2              0.23         0.32             8.5      0.058   \n",
       "\n",
       "   free sulfur dioxide  total sulfur dioxide  density    pH  sulphates  \\\n",
       "0                 45.0                 170.0   1.0010  3.00       0.45   \n",
       "1                 14.0                 132.0   0.9940  3.30       0.49   \n",
       "2                 30.0                  97.0   0.9951  3.26       0.44   \n",
       "3                 47.0                 186.0   0.9956  3.19       0.40   \n",
       "4                 47.0                 186.0   0.9956  3.19       0.40   \n",
       "\n",
       "   alcohol  quality  \n",
       "0      8.8        6  \n",
       "1      9.5        6  \n",
       "2     10.1        6  \n",
       "3      9.9        6  \n",
       "4      9.9        6  "
      ]
     },
     "execution_count": 2,
     "metadata": {},
     "output_type": "execute_result"
    }
   ],
   "source": [
    "## Load csv ##\n",
    "wine = pd.DataFrame.from_csv(\"winequality-white.csv\", sep = \";\", index_col=None)\n",
    "\n",
    "print(\"Length:\",len(wine))\n",
    "wine.head()"
   ]
  },
  {
   "cell_type": "code",
   "execution_count": 3,
   "metadata": {
    "collapsed": false,
    "deletable": true,
    "editable": true
   },
   "outputs": [
    {
     "data": {
      "text/html": [
       "<div>\n",
       "<table border=\"1\" class=\"dataframe\">\n",
       "  <thead>\n",
       "    <tr style=\"text-align: right;\">\n",
       "      <th></th>\n",
       "      <th>fixed acidity</th>\n",
       "      <th>volatile acidity</th>\n",
       "      <th>citric acid</th>\n",
       "      <th>residual sugar</th>\n",
       "      <th>chlorides</th>\n",
       "      <th>free sulfur dioxide</th>\n",
       "      <th>total sulfur dioxide</th>\n",
       "      <th>density</th>\n",
       "      <th>pH</th>\n",
       "      <th>sulphates</th>\n",
       "      <th>alcohol</th>\n",
       "    </tr>\n",
       "  </thead>\n",
       "  <tbody>\n",
       "    <tr>\n",
       "      <th>0</th>\n",
       "      <td>7.0</td>\n",
       "      <td>0.27</td>\n",
       "      <td>0.36</td>\n",
       "      <td>20.7</td>\n",
       "      <td>0.045</td>\n",
       "      <td>45.0</td>\n",
       "      <td>170.0</td>\n",
       "      <td>1.0010</td>\n",
       "      <td>3.00</td>\n",
       "      <td>0.45</td>\n",
       "      <td>8.8</td>\n",
       "    </tr>\n",
       "    <tr>\n",
       "      <th>1</th>\n",
       "      <td>6.3</td>\n",
       "      <td>0.30</td>\n",
       "      <td>0.34</td>\n",
       "      <td>1.6</td>\n",
       "      <td>0.049</td>\n",
       "      <td>14.0</td>\n",
       "      <td>132.0</td>\n",
       "      <td>0.9940</td>\n",
       "      <td>3.30</td>\n",
       "      <td>0.49</td>\n",
       "      <td>9.5</td>\n",
       "    </tr>\n",
       "    <tr>\n",
       "      <th>2</th>\n",
       "      <td>8.1</td>\n",
       "      <td>0.28</td>\n",
       "      <td>0.40</td>\n",
       "      <td>6.9</td>\n",
       "      <td>0.050</td>\n",
       "      <td>30.0</td>\n",
       "      <td>97.0</td>\n",
       "      <td>0.9951</td>\n",
       "      <td>3.26</td>\n",
       "      <td>0.44</td>\n",
       "      <td>10.1</td>\n",
       "    </tr>\n",
       "    <tr>\n",
       "      <th>3</th>\n",
       "      <td>7.2</td>\n",
       "      <td>0.23</td>\n",
       "      <td>0.32</td>\n",
       "      <td>8.5</td>\n",
       "      <td>0.058</td>\n",
       "      <td>47.0</td>\n",
       "      <td>186.0</td>\n",
       "      <td>0.9956</td>\n",
       "      <td>3.19</td>\n",
       "      <td>0.40</td>\n",
       "      <td>9.9</td>\n",
       "    </tr>\n",
       "    <tr>\n",
       "      <th>4</th>\n",
       "      <td>7.2</td>\n",
       "      <td>0.23</td>\n",
       "      <td>0.32</td>\n",
       "      <td>8.5</td>\n",
       "      <td>0.058</td>\n",
       "      <td>47.0</td>\n",
       "      <td>186.0</td>\n",
       "      <td>0.9956</td>\n",
       "      <td>3.19</td>\n",
       "      <td>0.40</td>\n",
       "      <td>9.9</td>\n",
       "    </tr>\n",
       "  </tbody>\n",
       "</table>\n",
       "</div>"
      ],
      "text/plain": [
       "   fixed acidity  volatile acidity  citric acid  residual sugar  chlorides  \\\n",
       "0            7.0              0.27         0.36            20.7      0.045   \n",
       "1            6.3              0.30         0.34             1.6      0.049   \n",
       "2            8.1              0.28         0.40             6.9      0.050   \n",
       "3            7.2              0.23         0.32             8.5      0.058   \n",
       "4            7.2              0.23         0.32             8.5      0.058   \n",
       "\n",
       "   free sulfur dioxide  total sulfur dioxide  density    pH  sulphates  \\\n",
       "0                 45.0                 170.0   1.0010  3.00       0.45   \n",
       "1                 14.0                 132.0   0.9940  3.30       0.49   \n",
       "2                 30.0                  97.0   0.9951  3.26       0.44   \n",
       "3                 47.0                 186.0   0.9956  3.19       0.40   \n",
       "4                 47.0                 186.0   0.9956  3.19       0.40   \n",
       "\n",
       "   alcohol  \n",
       "0      8.8  \n",
       "1      9.5  \n",
       "2     10.1  \n",
       "3      9.9  \n",
       "4      9.9  "
      ]
     },
     "execution_count": 3,
     "metadata": {},
     "output_type": "execute_result"
    }
   ],
   "source": [
    "wine_win = wine.drop('quality',1)\n",
    "type(wine_win)\n",
    "wine_win.head()"
   ]
  },
  {
   "cell_type": "code",
   "execution_count": 4,
   "metadata": {
    "collapsed": false,
    "deletable": true,
    "editable": true
   },
   "outputs": [
    {
     "data": {
      "text/html": [
       "<div>\n",
       "<table border=\"1\" class=\"dataframe\">\n",
       "  <thead>\n",
       "    <tr style=\"text-align: right;\">\n",
       "      <th></th>\n",
       "      <th>fixed acidity</th>\n",
       "      <th>volatile acidity</th>\n",
       "      <th>citric acid</th>\n",
       "      <th>residual sugar</th>\n",
       "      <th>chlorides</th>\n",
       "      <th>free sulfur dioxide</th>\n",
       "      <th>total sulfur dioxide</th>\n",
       "      <th>density</th>\n",
       "      <th>pH</th>\n",
       "      <th>sulphates</th>\n",
       "      <th>alcohol</th>\n",
       "    </tr>\n",
       "  </thead>\n",
       "  <tbody>\n",
       "    <tr>\n",
       "      <th>0</th>\n",
       "      <td>0.027277</td>\n",
       "      <td>0.001052</td>\n",
       "      <td>0.001403</td>\n",
       "      <td>0.080662</td>\n",
       "      <td>0.000175</td>\n",
       "      <td>0.175352</td>\n",
       "      <td>0.662443</td>\n",
       "      <td>0.003901</td>\n",
       "      <td>0.011690</td>\n",
       "      <td>0.001754</td>\n",
       "      <td>0.034291</td>\n",
       "    </tr>\n",
       "    <tr>\n",
       "      <th>1</th>\n",
       "      <td>0.037306</td>\n",
       "      <td>0.001776</td>\n",
       "      <td>0.002013</td>\n",
       "      <td>0.009475</td>\n",
       "      <td>0.000290</td>\n",
       "      <td>0.082903</td>\n",
       "      <td>0.781652</td>\n",
       "      <td>0.005886</td>\n",
       "      <td>0.019541</td>\n",
       "      <td>0.002902</td>\n",
       "      <td>0.056255</td>\n",
       "    </tr>\n",
       "    <tr>\n",
       "      <th>2</th>\n",
       "      <td>0.051420</td>\n",
       "      <td>0.001777</td>\n",
       "      <td>0.002539</td>\n",
       "      <td>0.043803</td>\n",
       "      <td>0.000317</td>\n",
       "      <td>0.190446</td>\n",
       "      <td>0.615775</td>\n",
       "      <td>0.006317</td>\n",
       "      <td>0.020695</td>\n",
       "      <td>0.002793</td>\n",
       "      <td>0.064117</td>\n",
       "    </tr>\n",
       "    <tr>\n",
       "      <th>3</th>\n",
       "      <td>0.027294</td>\n",
       "      <td>0.000872</td>\n",
       "      <td>0.001213</td>\n",
       "      <td>0.032222</td>\n",
       "      <td>0.000220</td>\n",
       "      <td>0.178170</td>\n",
       "      <td>0.705097</td>\n",
       "      <td>0.003774</td>\n",
       "      <td>0.012093</td>\n",
       "      <td>0.001516</td>\n",
       "      <td>0.037529</td>\n",
       "    </tr>\n",
       "    <tr>\n",
       "      <th>4</th>\n",
       "      <td>0.027294</td>\n",
       "      <td>0.000872</td>\n",
       "      <td>0.001213</td>\n",
       "      <td>0.032222</td>\n",
       "      <td>0.000220</td>\n",
       "      <td>0.178170</td>\n",
       "      <td>0.705097</td>\n",
       "      <td>0.003774</td>\n",
       "      <td>0.012093</td>\n",
       "      <td>0.001516</td>\n",
       "      <td>0.037529</td>\n",
       "    </tr>\n",
       "  </tbody>\n",
       "</table>\n",
       "</div>"
      ],
      "text/plain": [
       "   fixed acidity  volatile acidity  citric acid  residual sugar  chlorides  \\\n",
       "0       0.027277          0.001052     0.001403        0.080662   0.000175   \n",
       "1       0.037306          0.001776     0.002013        0.009475   0.000290   \n",
       "2       0.051420          0.001777     0.002539        0.043803   0.000317   \n",
       "3       0.027294          0.000872     0.001213        0.032222   0.000220   \n",
       "4       0.027294          0.000872     0.001213        0.032222   0.000220   \n",
       "\n",
       "   free sulfur dioxide  total sulfur dioxide   density        pH  sulphates  \\\n",
       "0             0.175352              0.662443  0.003901  0.011690   0.001754   \n",
       "1             0.082903              0.781652  0.005886  0.019541   0.002902   \n",
       "2             0.190446              0.615775  0.006317  0.020695   0.002793   \n",
       "3             0.178170              0.705097  0.003774  0.012093   0.001516   \n",
       "4             0.178170              0.705097  0.003774  0.012093   0.001516   \n",
       "\n",
       "    alcohol  \n",
       "0  0.034291  \n",
       "1  0.056255  \n",
       "2  0.064117  \n",
       "3  0.037529  \n",
       "4  0.037529  "
      ]
     },
     "execution_count": 4,
     "metadata": {},
     "output_type": "execute_result"
    }
   ],
   "source": [
    "wine_rno = wine_win.div(wine_win.sum(axis=1), axis=0)\n",
    "wine_rno.head()"
   ]
  },
  {
   "cell_type": "code",
   "execution_count": 5,
   "metadata": {
    "collapsed": false,
    "deletable": true,
    "editable": true
   },
   "outputs": [
    {
     "name": "stdout",
     "output_type": "stream",
     "text": [
      "4898\n"
     ]
    },
    {
     "data": {
      "text/plain": [
       "array([[ 0.02727705,  0.00105211,  0.00140282, ...,  0.01169016,\n",
       "         0.00175352,  0.03429115],\n",
       "       [ 0.03730614,  0.00177648,  0.00201335, ...,  0.01954131,\n",
       "         0.00290159,  0.05625529],\n",
       "       [ 0.05142038,  0.00177749,  0.00253928, ...,  0.02069511,\n",
       "         0.00279321,  0.06411677],\n",
       "       ..., \n",
       "       [ 0.03987399,  0.00147227,  0.00116555, ...,  0.01834203,\n",
       "         0.00282185,  0.05766392],\n",
       "       [ 0.03554793,  0.00187435,  0.00193898, ...,  0.02158729,\n",
       "         0.00245604,  0.08272972],\n",
       "       [ 0.04173059,  0.00146057,  0.00264294, ...,  0.02267362,\n",
       "         0.00222563,  0.08207017]])"
      ]
     },
     "execution_count": 5,
     "metadata": {},
     "output_type": "execute_result"
    }
   ],
   "source": [
    "wine_np_X = wine_rno.as_matrix()\n",
    "print(len(wine_np_X))\n",
    "wine_np_X"
   ]
  },
  {
   "cell_type": "code",
   "execution_count": 6,
   "metadata": {
    "collapsed": false,
    "deletable": true,
    "editable": true
   },
   "outputs": [
    {
     "data": {
      "text/plain": [
       "array([6, 6, 6, ..., 6, 7, 6])"
      ]
     },
     "execution_count": 6,
     "metadata": {},
     "output_type": "execute_result"
    }
   ],
   "source": [
    "wine_np_y = wine['quality'].as_matrix()\n",
    "wine_np_y"
   ]
  },
  {
   "cell_type": "code",
   "execution_count": 7,
   "metadata": {
    "collapsed": true,
    "deletable": true,
    "editable": true
   },
   "outputs": [],
   "source": [
    "np.random.seed(1943)\n",
    "indices = np.random.permutation(len(wine_np_X))\n",
    "n = int(0.9*len(wine_np_X))\n",
    "wine_X_train = wine_np_X[indices[0:n]]\n",
    "wine_y_train = wine_np_y[indices[0:n]]\n",
    "wine_X_test = wine_np_X[indices[n:4898]]\n",
    "wine_y_test = wine_np_y[indices[n:4898]]"
   ]
  },
  {
   "cell_type": "code",
   "execution_count": 8,
   "metadata": {
    "collapsed": true,
    "deletable": true,
    "editable": true
   },
   "outputs": [],
   "source": [
    "def cosdist(x, y):\n",
    "    #return np.sum(x*y)/np.sqrt(np.sum(x)**2 * np.sum(y)**2)\n",
    "    return spatial.distance.cosine(x,y)"
   ]
  },
  {
   "cell_type": "markdown",
   "metadata": {
    "deletable": true,
    "editable": true
   },
   "source": [
    "# Compare"
   ]
  },
  {
   "cell_type": "code",
   "execution_count": 9,
   "metadata": {
    "collapsed": false,
    "deletable": true,
    "editable": true
   },
   "outputs": [],
   "source": [
    "knn_LSelu = KNeighborsClassifier(n_neighbors=69, algorithm='brute', metric='euclidean')\n",
    "knn_LScos = KNeighborsClassifier(n_neighbors=69, algorithm='brute', metric=cosdist)"
   ]
  },
  {
   "cell_type": "code",
   "execution_count": 10,
   "metadata": {
    "collapsed": false,
    "deletable": true,
    "editable": true
   },
   "outputs": [
    {
     "name": "stdout",
     "output_type": "stream",
     "text": [
      "Confusion Matrix: \n",
      " [[  0   0   1   1   0   0   0]\n",
      " [  0   0   8   6   0   0   0]\n",
      " [  0   1  54  99   2   0   0]\n",
      " [  0   0  45 161   7   0   0]\n",
      " [  0   0   4  76   9   0   0]\n",
      " [  0   0   1  13   1   0   0]\n",
      " [  0   0   0   1   0   0   0]]\n",
      "\n",
      "Accuracy:  0.457142857143\n"
     ]
    }
   ],
   "source": [
    "s_time6 = time.time()\n",
    "\n",
    "knn_LSelu.fit(wine_X_train,wine_y_train)\n",
    "wine_y_pred = knn_LSelu.predict(wine_X_test)\n",
    "\n",
    "e_time6 = time.time() - s_time6\n",
    "#print(np.unique(wine_y_test))\n",
    "#print(np.unique(wine_y_pred))\n",
    "print(\"Confusion Matrix: \\n\", confusion_matrix(wine_y_test, wine_y_pred, labels=[3,4,5,6,7,8,9]))\n",
    "print(\"\\nAccuracy: \",accuracy_score(wine_y_test, wine_y_pred))"
   ]
  },
  {
   "cell_type": "code",
   "execution_count": 11,
   "metadata": {
    "collapsed": false,
    "deletable": true,
    "editable": true
   },
   "outputs": [
    {
     "name": "stdout",
     "output_type": "stream",
     "text": [
      "Confusion Matrix: \n",
      " [[  0   0   1   1   0   0   0]\n",
      " [  0   0  12   2   0   0   0]\n",
      " [  0   0  61  94   1   0   0]\n",
      " [  0   0  49 156   8   0   0]\n",
      " [  0   0   5  74  10   0   0]\n",
      " [  0   0   1  13   1   0   0]\n",
      " [  0   0   0   1   0   0   0]]\n",
      "\n",
      "Accuracy:  0.463265306122\n"
     ]
    }
   ],
   "source": [
    "s_time7 = time.time()\n",
    "\n",
    "knn_LScos.fit(wine_X_train,wine_y_train)\n",
    "wine_y_pred = knn_LScos.predict(wine_X_test)\n",
    "\n",
    "e_time7 = time.time() - s_time7\n",
    "#print(np.unique(wine_y_test))\n",
    "#print(np.unique(wine_y_pred))\n",
    "print(\"Confusion Matrix: \\n\", confusion_matrix(wine_y_test, wine_y_pred, labels=[3,4,5,6,7,8,9]))\n",
    "print(\"\\nAccuracy: \",accuracy_score(wine_y_test, wine_y_pred))"
   ]
  },
  {
   "cell_type": "code",
   "execution_count": 12,
   "metadata": {
    "collapsed": true,
    "deletable": true,
    "editable": true
   },
   "outputs": [],
   "source": [
    "knn_LSelu = KNeighborsClassifier(n_neighbors=1, algorithm='brute', metric='euclidean')\n",
    "knn_LScos = KNeighborsClassifier(n_neighbors=1, algorithm='brute', metric=cosdist)"
   ]
  },
  {
   "cell_type": "code",
   "execution_count": 13,
   "metadata": {
    "collapsed": false,
    "deletable": true,
    "editable": true
   },
   "outputs": [
    {
     "name": "stdout",
     "output_type": "stream",
     "text": [
      "Confusion Matrix: \n",
      " [[  0   1   1   0   0   0   0]\n",
      " [  0   3   3   8   0   0   0]\n",
      " [  0   5  95  44   7   5   0]\n",
      " [  0   2  32 152  22   5   0]\n",
      " [  0   1   6  35  42   5   0]\n",
      " [  0   0   1   7   2   5   0]\n",
      " [  0   0   1   0   0   0   0]]\n",
      "\n",
      "Accuracy:  0.60612244898\n"
     ]
    }
   ],
   "source": [
    "s_time8 = time.time()\n",
    "\n",
    "knn_LSelu.fit(wine_X_train,wine_y_train)\n",
    "wine_y_pred = knn_LSelu.predict(wine_X_test)\n",
    "\n",
    "e_time8 = time.time() - s_time8\n",
    "#print(np.unique(wine_y_test))\n",
    "#print(np.unique(wine_y_pred))\n",
    "print(\"Confusion Matrix: \\n\", confusion_matrix(wine_y_test, wine_y_pred, labels=[3,4,5,6,7,8,9]))\n",
    "print(\"\\nAccuracy: \",accuracy_score(wine_y_test, wine_y_pred))"
   ]
  },
  {
   "cell_type": "code",
   "execution_count": 14,
   "metadata": {
    "collapsed": false,
    "deletable": true,
    "editable": true
   },
   "outputs": [
    {
     "name": "stdout",
     "output_type": "stream",
     "text": [
      "Confusion Matrix: \n",
      " [[  0   0   2   0   0   0   0]\n",
      " [  0   3   5   6   0   0   0]\n",
      " [  1   4  96  41   8   6   0]\n",
      " [  0   4  31 150  23   5   0]\n",
      " [  0   1   6  36  42   4   0]\n",
      " [  0   0   1   7   2   5   0]\n",
      " [  0   0   1   0   0   0   0]]\n",
      "\n",
      "Accuracy:  0.604081632653\n"
     ]
    }
   ],
   "source": [
    "s_time9 = time.time()\n",
    "\n",
    "knn_LScos.fit(wine_X_train,wine_y_train)\n",
    "wine_y_pred = knn_LScos.predict(wine_X_test)\n",
    "\n",
    "e_time9 = time.time() - s_time9\n",
    "#print(np.unique(wine_y_test))\n",
    "#print(np.unique(wine_y_pred))\n",
    "print(\"Confusion Matrix: \\n\", confusion_matrix(wine_y_test, wine_y_pred, labels=[3,4,5,6,7,8,9]))\n",
    "print(\"\\nAccuracy: \",accuracy_score(wine_y_test, wine_y_pred))"
   ]
  },
  {
   "cell_type": "markdown",
   "metadata": {
    "deletable": true,
    "editable": true
   },
   "source": [
    "# Cosine Similarity with KD-Tree"
   ]
  },
  {
   "cell_type": "code",
   "execution_count": 9,
   "metadata": {
    "collapsed": true,
    "deletable": true,
    "editable": true
   },
   "outputs": [],
   "source": [
    "knn_KDelu = KNeighborsClassifier(n_neighbors=69, algorithm='kd_tree', metric='euclidean')"
   ]
  },
  {
   "cell_type": "code",
   "execution_count": 10,
   "metadata": {
    "collapsed": false,
    "deletable": true,
    "editable": true
   },
   "outputs": [
    {
     "name": "stdout",
     "output_type": "stream",
     "text": [
      "Confusion Matrix: \n",
      " [[  0   0   1   1   0   0   0]\n",
      " [  0   0   8   6   0   0   0]\n",
      " [  0   1  54  99   2   0   0]\n",
      " [  0   0  45 161   7   0   0]\n",
      " [  0   0   4  76   9   0   0]\n",
      " [  0   0   1  13   1   0   0]\n",
      " [  0   0   0   1   0   0   0]]\n",
      "\n",
      "Accuracy:  0.457142857143\n"
     ]
    }
   ],
   "source": [
    "s_time10 = time.time()\n",
    "knn_KDelu.fit(wine_X_train,wine_y_train)\n",
    "e_time10 = time.time() - s_time10\n",
    "\n",
    "s_time1010 = time.time()\n",
    "wine_y_pred = knn_KDelu.predict(wine_X_test)\n",
    "e_time1010 = time.time() - s_time1010\n",
    "#print(np.unique(wine_y_test))\n",
    "#print(np.unique(wine_y_pred))\n",
    "print(\"Confusion Matrix: \\n\", confusion_matrix(wine_y_test, wine_y_pred, labels=[3,4,5,6,7,8,9]))\n",
    "print(\"\\nAccuracy: \",accuracy_score(wine_y_test, wine_y_pred))"
   ]
  },
  {
   "cell_type": "code",
   "execution_count": 17,
   "metadata": {
    "collapsed": false,
    "deletable": true,
    "editable": true
   },
   "outputs": [
    {
     "name": "stdout",
     "output_type": "stream",
     "text": [
      "Confusion Matrix: \n",
      " [[  0   0   1   1   0   0   0]\n",
      " [  0   0   9   5   0   0   0]\n",
      " [  0   0  70  83   3   0   0]\n",
      " [  0   0  46 159   8   0   0]\n",
      " [  0   0   7  71  11   0   0]\n",
      " [  0   0   1  13   1   0   0]\n",
      " [  0   0   0   1   0   0   0]]\n",
      "\n",
      "Accuracy:  0.489795918367\n"
     ]
    }
   ],
   "source": [
    "## Resubstitution Validation\n",
    "knn_KDelu.fit(wine_np_X,wine_np_y)\n",
    "wine_y_pred = knn_KDelu.predict(wine_X_test)\n",
    "print(\"Confusion Matrix: \\n\", confusion_matrix(wine_y_test, wine_y_pred, labels=[3,4,5,6,7,8,9]))\n",
    "print(\"\\nAccuracy: \",accuracy_score(wine_y_test, wine_y_pred))"
   ]
  },
  {
   "cell_type": "code",
   "execution_count": 18,
   "metadata": {
    "collapsed": false,
    "deletable": true,
    "editable": true
   },
   "outputs": [
    {
     "name": "stdout",
     "output_type": "stream",
     "text": [
      "Optimal number of neighbors: 1\n"
     ]
    },
    {
     "data": {
      "image/png": "[encoded data removed]",
      "text/plain": [
       "<matplotlib.figure.Figure at 0x7f6b9114c8d0>"
      ]
     },
     "metadata": {},
     "output_type": "display_data"
    },
    {
     "name": "stdout",
     "output_type": "stream",
     "text": [
      "Confusion Matrix: \n",
      " [[  0   1   1   0   0   0   0]\n",
      " [  0   3   3   8   0   0   0]\n",
      " [  0   5  95  44   7   5   0]\n",
      " [  0   2  32 152  22   5   0]\n",
      " [  0   1   6  35  42   5   0]\n",
      " [  0   0   1   7   2   5   0]\n",
      " [  0   0   1   0   0   0   0]]\n",
      "\n",
      "Accuracy:  0.60612244898\n"
     ]
    }
   ],
   "source": [
    "## Cross Validation\n",
    "neighbors = np.array(range(1,15))\n",
    "neighbors = neighbors*2 -1\n",
    "\n",
    "cv_score = []\n",
    "\n",
    "for k in neighbors:\n",
    "    knn = KNeighborsClassifier(n_neighbors=k, algorithm='kd_tree', metric='euclidean')\n",
    "    scores = cross_val_score(knn, wine_X_train, wine_y_train, cv=4, scoring='accuracy')\n",
    "    cv_score.append(scores.mean())\n",
    "    \n",
    "MSE = [1 - x for x in cv_score]\n",
    "op_k = neighbors[MSE.index(min(MSE))]\n",
    "print(\"Optimal number of neighbors:\", op_k)\n",
    "\n",
    "plt.plot(neighbors, MSE)\n",
    "plt.xlabel('Neighbors K')\n",
    "plt.ylabel('MSE')\n",
    "plt.show()\n",
    "\n",
    "knn = KNeighborsClassifier(n_neighbors=1, algorithm='kd_tree', metric='euclidean')\n",
    "knn.fit(wine_X_train,wine_y_train)\n",
    "wine_y_pred = knn.predict(wine_X_test)\n",
    "print(\"Confusion Matrix: \\n\", confusion_matrix(wine_y_test, wine_y_pred, labels=[3,4,5,6,7,8,9]))\n",
    "print(\"\\nAccuracy: \", accuracy_score(wine_y_test, wine_y_pred))"
   ]
  },
  {
   "cell_type": "markdown",
   "metadata": {
    "deletable": true,
    "editable": true
   },
   "source": [
    "#  Cosine Similarity with Linear Search"
   ]
  },
  {
   "cell_type": "code",
   "execution_count": 11,
   "metadata": {
    "collapsed": false,
    "deletable": true,
    "editable": true
   },
   "outputs": [],
   "source": [
    "knn_LSelu = KNeighborsClassifier(n_neighbors=69, algorithm='brute', metric='euclidean')"
   ]
  },
  {
   "cell_type": "code",
   "execution_count": 12,
   "metadata": {
    "collapsed": false,
    "deletable": true,
    "editable": true
   },
   "outputs": [
    {
     "name": "stdout",
     "output_type": "stream",
     "text": [
      "Confusion Matrix: \n",
      " [[  0   0   1   1   0   0   0]\n",
      " [  0   0   8   6   0   0   0]\n",
      " [  0   1  54  99   2   0   0]\n",
      " [  0   0  45 161   7   0   0]\n",
      " [  0   0   4  76   9   0   0]\n",
      " [  0   0   1  13   1   0   0]\n",
      " [  0   0   0   1   0   0   0]]\n",
      "\n",
      "Accuracy:  0.457142857143\n"
     ]
    }
   ],
   "source": [
    "s_time11 = time.time()\n",
    "knn_LSelu.fit(wine_X_train,wine_y_train)\n",
    "e_time11 = time.time() - s_time11\n",
    "\n",
    "s_time1111 = time.time()\n",
    "wine_y_pred = knn_LSelu.predict(wine_X_test)\n",
    "e_time1111 = time.time() - s_time1111\n",
    "#print(np.unique(wine_y_test))\n",
    "#print(np.unique(wine_y_pred))\n",
    "print(\"Confusion Matrix: \\n\", confusion_matrix(wine_y_test, wine_y_pred, labels=[3,4,5,6,7,8,9]))\n",
    "print(\"\\nAccuracy: \",accuracy_score(wine_y_test, wine_y_pred))"
   ]
  },
  {
   "cell_type": "code",
   "execution_count": 21,
   "metadata": {
    "collapsed": false,
    "deletable": true,
    "editable": true
   },
   "outputs": [
    {
     "name": "stdout",
     "output_type": "stream",
     "text": [
      "Confusion Matrix: \n",
      " [[  0   0   1   1   0   0   0]\n",
      " [  0   0   9   5   0   0   0]\n",
      " [  0   0  70  83   3   0   0]\n",
      " [  0   0  46 159   8   0   0]\n",
      " [  0   0   7  71  11   0   0]\n",
      " [  0   0   1  13   1   0   0]\n",
      " [  0   0   0   1   0   0   0]]\n",
      "\n",
      "Accuracy:  0.489795918367\n"
     ]
    }
   ],
   "source": [
    "## Resubstitution Validation\n",
    "knn_LSelu.fit(wine_np_X,wine_np_y)\n",
    "wine_y_pred = knn_LSelu.predict(wine_X_test)\n",
    "print(\"Confusion Matrix: \\n\", confusion_matrix(wine_y_test, wine_y_pred, labels=[3,4,5,6,7,8,9]))\n",
    "print(\"\\nAccuracy: \",accuracy_score(wine_y_test, wine_y_pred))"
   ]
  },
  {
   "cell_type": "code",
   "execution_count": 22,
   "metadata": {
    "collapsed": false,
    "deletable": true,
    "editable": true
   },
   "outputs": [
    {
     "name": "stdout",
     "output_type": "stream",
     "text": [
      "Optimal number of neighbors: 1\n"
     ]
    },
    {
     "data": {
      "image/png": "[encoded data removed]",
      "text/plain": [
       "<matplotlib.figure.Figure at 0x7f6b4cd31cf8>"
      ]
     },
     "metadata": {},
     "output_type": "display_data"
    },
    {
     "name": "stdout",
     "output_type": "stream",
     "text": [
      "Confusion Matrix: \n",
      " [[  0   1   1   0   0   0   0]\n",
      " [  0   3   3   8   0   0   0]\n",
      " [  0   5  95  44   7   5   0]\n",
      " [  0   2  32 152  22   5   0]\n",
      " [  0   1   6  35  42   5   0]\n",
      " [  0   0   1   7   2   5   0]\n",
      " [  0   0   1   0   0   0   0]]\n",
      "\n",
      "Accuracy:  0.60612244898\n"
     ]
    }
   ],
   "source": [
    "## Cross Validation\n",
    "neighbors = np.array(range(1,15))\n",
    "neighbors = neighbors*2 -1\n",
    "\n",
    "cv_score = []\n",
    "\n",
    "for k in neighbors:\n",
    "    knn = KNeighborsClassifier(n_neighbors=k, algorithm='brute', metric='euclidean')\n",
    "    scores = cross_val_score(knn, wine_X_train, wine_y_train, cv=4, scoring='accuracy')\n",
    "    cv_score.append(scores.mean())\n",
    "    \n",
    "MSE = [1 - x for x in cv_score]\n",
    "op_k = neighbors[MSE.index(min(MSE))]\n",
    "print(\"Optimal number of neighbors:\", op_k)\n",
    "\n",
    "plt.plot(neighbors, MSE)\n",
    "plt.xlabel('Neighbors K')\n",
    "plt.ylabel('MSE')\n",
    "plt.show()\n",
    "\n",
    "knn = KNeighborsClassifier(n_neighbors=1, algorithm='brute', metric='euclidean')\n",
    "knn.fit(wine_X_train,wine_y_train)\n",
    "wine_y_pred = knn.predict(wine_X_test)\n",
    "print(\"Confusion Matrix: \\n\", confusion_matrix(wine_y_test, wine_y_pred, labels=[3,4,5,6,7,8,9]))\n",
    "print(\"\\nAccuracy: \", accuracy_score(wine_y_test, wine_y_pred))"
   ]
  },
  {
   "cell_type": "markdown",
   "metadata": {},
   "source": [
    "# Elapsed Time"
   ]
  },
  {
   "cell_type": "code",
   "execution_count": 14,
   "metadata": {
    "collapsed": false,
    "deletable": true,
    "editable": true
   },
   "outputs": [
    {
     "name": "stdout",
     "output_type": "stream",
     "text": [
      "LScos: 0.0006587505340576172 \n",
      "     : 0.04192614555358887\n",
      "KDcos: 0.002615690231323242 \n",
      "     : 0.011778593063354492\n"
     ]
    }
   ],
   "source": [
    "print(\"LScos:\",e_time11, \"\\n     :\", e_time1111)\n",
    "print(\"KDcos:\",e_time10, \"\\n     :\", e_time1010)"
   ]
  },
  {
   "cell_type": "code",
   "execution_count": null,
   "metadata": {
    "collapsed": true,
    "deletable": true,
    "editable": true
   },
   "outputs": [],
   "source": []
  }
 ],
 "metadata": {
  "kernelspec": {
   "display_name": "Python 3",
   "language": "python",
   "name": "python3"
  },
  "language_info": {
   "codemirror_mode": {
    "name": "ipython",
    "version": 3
   },
   "file_extension": ".py",
   "mimetype": "text/x-python",
   "name": "python",
   "nbconvert_exporter": "python",
   "pygments_lexer": "ipython3",
   "version": "3.5.2"
  }
 },
 "nbformat": 4,
 "nbformat_minor": 2
}
